{
  "cells": [
    {
      "cell_type": "markdown",
      "metadata": {
        "id": "view-in-github",
        "colab_type": "text"
      },
      "source": [
        "<a href=\"https://colab.research.google.com/github/sunnybhakta296/LLM/blob/main/rag_with_sql_reranker.ipynb\" target=\"_parent\"><img src=\"https://colab.research.google.com/assets/colab-badge.svg\" alt=\"Open In Colab\"/></a>"
      ]
    },
    {
      "cell_type": "markdown",
      "id": "1e8ed773-0da3-49f2-8481-2ac87a12926f",
      "metadata": {
        "id": "1e8ed773-0da3-49f2-8481-2ac87a12926f"
      },
      "source": [
        "# RAG backed by SQL and Jina Reranker v2\n",
        "\n",
        "_Authored by: [Scott Martens](https://github.com/scott-martens) @ [Jina AI](https://jina.ai)_\n",
        "\n",
        "This notebook will show you how to make a simple Retrieval Augmented Generation (RAG) system that draws on an SQL database instead of drawing information from a document store.\n",
        "\n",
        "### How it Works\n",
        "\n",
        "* Given an SQL database, we extract SQL table definitions (the `CREATE` line in an SQL dump) and store them. In this tutorial, we've done this part for you and the definitions are stored in memory as a list. Scaling up from this example might require more sophisticated storage.\n",
        "* The user enters a query in natural language.\n",
        "* [Jina Reranker v2](https://jina.ai/reranker/) \\([`jinaai/jina-reranker-v2-base-multilingual`](https://huggingface.co/jinaai/jina-reranker-v2-base-multilingual)), an SQL-aware reranking model from [Jina AI](https://jina.ai), sorts the table definitions in order of their relevance to the user's query.\n",
        "* We present [Mistral 7B Instruct v0.1 \\(`mistralai/Mistral-7B-Instruct-v0.1`)](https://huggingface.co/mistralai/Mistral-7B-Instruct-v0.1) with a prompt containing the user's query and the top three table definitions, with a request to write an SQL query to fit the task.\n",
        "* Mistral Instruct generates an SQL query and we run it against the database, retrieving a result.\n",
        "* The SQL query result is converted to JSON and presented to Mistral Instruct in a new prompt, along with the user's original query, the SQL query, and a request to compose an answer for the user in natural language.\n",
        "* Mistral Instruct's natural language text response is returned to the user.\n",
        "\n",
        "### The Database\n",
        "\n",
        "For this tutorial, we are using a small open-access database of video game sales records [stored on GitHub](https://github.com/bbrumm/databasestar/tree/main/sample_databases/sample_db_videogames/sqlite). We will be using the [SQLite](https://www.sqlite.org/index.html) version because SQLite is very compact, cross-platform, and has built-in Python support.\n",
        "\n",
        "### Software and Hardware Requirements\n",
        "\n",
        "We will be running the Jina Reranker v2 model locally. If you are using Google Colab to run this notebook, make sure you are using a runtime that has access to a GPU. If you are running it locally, you will need Python 3 \\(this tutorial was authored using a Python 3.11 installation) and it will run *much* faster with a CUDA-enabled GPU.\n",
        "\n",
        "We will also use the open-source [LlamaIndex RAG framework](https://www.llamaindex.ai/) extensively in this tutorial, and the [Hugging Face Inference API](https://huggingface.co/inference-api/serverless) to access Mistral 7B Instruct v0.1. You will need a [Hugging Face account](https://huggingface.co/login) and an [access token](https://huggingface.co/settings/tokens) with at least `READ` access.\n",
        "\n",
        "> [!WARNING]\n",
        "> If you are using Google Colab, SQLite is already installed. It may not be installed on your local computer.  If it's not installed, follow the instructions on the [SQLite website](https://www.sqlite.org/download.html) to install it. The Python interface code is built into Python and you don’t need to install any Python modules for it.\n"
      ]
    },
    {
      "cell_type": "markdown",
      "id": "G18FHmeE5_5Q",
      "metadata": {
        "id": "G18FHmeE5_5Q"
      },
      "source": [
        "## Setting Up"
      ]
    },
    {
      "cell_type": "markdown",
      "id": "c22zH-xVFEvV",
      "metadata": {
        "id": "c22zH-xVFEvV"
      },
      "source": [
        "### Install Requirements\n",
        "\n",
        "First, install the required Python modules:"
      ]
    },
    {
      "cell_type": "code",
      "execution_count": null,
      "id": "674424a4-8371-4010-a4b2-650d427a556d",
      "metadata": {
        "id": "674424a4-8371-4010-a4b2-650d427a556d",
        "outputId": "3dde225d-85f8-405a-f5fd-0374e713c8f7",
        "colab": {
          "base_uri": "https://localhost:8080/"
        }
      },
      "outputs": [
        {
          "output_type": "stream",
          "name": "stdout",
          "text": [
            "\u001b[2K   \u001b[90m━━━━━━━━━━━━━━━━━━━━━━━━━━━━━━━━━━━━━━━━\u001b[0m \u001b[32m1.6/1.6 MB\u001b[0m \u001b[31m18.3 MB/s\u001b[0m eta \u001b[36m0:00:00\u001b[0m\n",
            "\u001b[2K   \u001b[90m━━━━━━━━━━━━━━━━━━━━━━━━━━━━━━━━━━━━━━━━\u001b[0m \u001b[32m247.1/247.1 kB\u001b[0m \u001b[31m11.3 MB/s\u001b[0m eta \u001b[36m0:00:00\u001b[0m\n",
            "\u001b[2K   \u001b[90m━━━━━━━━━━━━━━━━━━━━━━━━━━━━━━━━━━━━━━━━\u001b[0m \u001b[32m298.0/298.0 kB\u001b[0m \u001b[31m11.4 MB/s\u001b[0m eta \u001b[36m0:00:00\u001b[0m\n",
            "\u001b[2K   \u001b[90m━━━━━━━━━━━━━━━━━━━━━━━━━━━━━━━━━━━━━━━━\u001b[0m \u001b[32m1.2/1.2 MB\u001b[0m \u001b[31m47.3 MB/s\u001b[0m eta \u001b[36m0:00:00\u001b[0m\n",
            "\u001b[2K   \u001b[90m━━━━━━━━━━━━━━━━━━━━━━━━━━━━━━━━━━━━━━━━\u001b[0m \u001b[32m49.5/49.5 kB\u001b[0m \u001b[31m3.2 MB/s\u001b[0m eta \u001b[36m0:00:00\u001b[0m\n",
            "\u001b[?25h"
          ]
        }
      ],
      "source": [
        "!pip install -qU transformers einops llama-index llama-index-postprocessor-jinaai-rerank  llama-index-llms-huggingface \"huggingface_hub[inference]\""
      ]
    },
    {
      "cell_type": "markdown",
      "id": "EzhBY8pq_av9",
      "metadata": {
        "id": "EzhBY8pq_av9"
      },
      "source": [
        "### Download the Database\n",
        "\n",
        "Next, download the SQLite database `videogames.db` from [GitHub](https://github.com/bbrumm/databasestar/tree/main/sample_databases/sample_db_videogames/sqlite) to the local filespace If `wget` is not available on your system, download the database from [this link](https://github.com/bbrumm/databasestar/raw/main/sample_databases/sample_db_videogames/sqlite/videogames.db) and put it in the same directory where you're running this notebook:\n"
      ]
    },
    {
      "cell_type": "code",
      "execution_count": null,
      "id": "ec28e417-a4cb-4fab-a614-4867b84ec7f4",
      "metadata": {
        "id": "ec28e417-a4cb-4fab-a614-4867b84ec7f4",
        "outputId": "2a86b1f2-c41e-46fe-9ff9-87a022df218e",
        "colab": {
          "base_uri": "https://localhost:8080/"
        }
      },
      "outputs": [
        {
          "output_type": "stream",
          "name": "stdout",
          "text": [
            "--2025-01-10 07:59:00--  https://github.com/bbrumm/databasestar/raw/main/sample_databases/sample_db_videogames/sqlite/videogames.db\n",
            "Resolving github.com (github.com)... 20.205.243.166\n",
            "Connecting to github.com (github.com)|20.205.243.166|:443... connected.\n",
            "HTTP request sent, awaiting response... 302 Found\n",
            "Location: https://raw.githubusercontent.com/bbrumm/databasestar/main/sample_databases/sample_db_videogames/sqlite/videogames.db [following]\n",
            "--2025-01-10 07:59:00--  https://raw.githubusercontent.com/bbrumm/databasestar/main/sample_databases/sample_db_videogames/sqlite/videogames.db\n",
            "Resolving raw.githubusercontent.com (raw.githubusercontent.com)... 185.199.109.133, 185.199.108.133, 185.199.111.133, ...\n",
            "Connecting to raw.githubusercontent.com (raw.githubusercontent.com)|185.199.109.133|:443... connected.\n",
            "HTTP request sent, awaiting response... 200 OK\n",
            "Length: 1974272 (1.9M) [application/octet-stream]\n",
            "Saving to: ‘videogames.db’\n",
            "\n",
            "videogames.db       100%[===================>]   1.88M  --.-KB/s    in 0.01s   \n",
            "\n",
            "2025-01-10 07:59:01 (166 MB/s) - ‘videogames.db’ saved [1974272/1974272]\n",
            "\n"
          ]
        }
      ],
      "source": [
        "!wget https://github.com/bbrumm/databasestar/raw/main/sample_databases/sample_db_videogames/sqlite/videogames.db"
      ]
    },
    {
      "cell_type": "code",
      "source": [
        "!pip install faker"
      ],
      "metadata": {
        "id": "iguaF2PYVpi_",
        "outputId": "5797bc16-7194-4152-bd41-6d0bfe0ceb00",
        "colab": {
          "base_uri": "https://localhost:8080/"
        }
      },
      "id": "iguaF2PYVpi_",
      "execution_count": null,
      "outputs": [
        {
          "output_type": "stream",
          "name": "stdout",
          "text": [
            "Collecting faker\n",
            "  Downloading Faker-33.3.0-py3-none-any.whl.metadata (15 kB)\n",
            "Requirement already satisfied: python-dateutil>=2.4 in /usr/local/lib/python3.10/dist-packages (from faker) (2.8.2)\n",
            "Requirement already satisfied: typing-extensions in /usr/local/lib/python3.10/dist-packages (from faker) (4.12.2)\n",
            "Requirement already satisfied: six>=1.5 in /usr/local/lib/python3.10/dist-packages (from python-dateutil>=2.4->faker) (1.17.0)\n",
            "Downloading Faker-33.3.0-py3-none-any.whl (1.9 MB)\n",
            "\u001b[?25l   \u001b[90m━━━━━━━━━━━━━━━━━━━━━━━━━━━━━━━━━━━━━━━━\u001b[0m \u001b[32m0.0/1.9 MB\u001b[0m \u001b[31m?\u001b[0m eta \u001b[36m-:--:--\u001b[0m\r\u001b[2K   \u001b[90m━━━━━━━━━━━━━━━━━━━━━━━━━━━━━━━━━━━━━━━━\u001b[0m \u001b[32m1.9/1.9 MB\u001b[0m \u001b[31m55.2 MB/s\u001b[0m eta \u001b[36m0:00:00\u001b[0m\n",
            "\u001b[?25hInstalling collected packages: faker\n",
            "Successfully installed faker-33.3.0\n"
          ]
        }
      ]
    },
    {
      "cell_type": "code",
      "source": [
        "import sqlite3\n",
        "import random\n",
        "from faker import Faker\n",
        "\n",
        "conn = sqlite3.connect('employees.db')\n",
        "cursor = conn.cursor()\n",
        "\n",
        "# Create tables\n",
        "cursor.executescript('''\n",
        "CREATE TABLE Employees (\n",
        "    employee_id INTEGER PRIMARY KEY AUTOINCREMENT,\n",
        "    first_name TEXT NOT NULL,\n",
        "    last_name TEXT NOT NULL,\n",
        "    email TEXT UNIQUE NOT NULL,\n",
        "    phone_number TEXT,\n",
        "    date_of_birth DATE,\n",
        "    hire_date DATE NOT NULL,\n",
        "    status TEXT DEFAULT 'Active',\n",
        "    created_at TIMESTAMP DEFAULT CURRENT_TIMESTAMP,\n",
        "    updated_at TIMESTAMP DEFAULT CURRENT_TIMESTAMP\n",
        ");\n",
        "\n",
        "CREATE TABLE Employee_Location (\n",
        "    location_id INTEGER PRIMARY KEY AUTOINCREMENT,\n",
        "    employee_id INTEGER,\n",
        "    city TEXT NOT NULL,\n",
        "    state TEXT,\n",
        "    country TEXT,\n",
        "    zip_code TEXT,\n",
        "    FOREIGN KEY (employee_id) REFERENCES Employees(employee_id)\n",
        ");\n",
        "\n",
        "CREATE TABLE Employee_Salary (\n",
        "    salary_id INTEGER PRIMARY KEY AUTOINCREMENT,\n",
        "    employee_id INTEGER,\n",
        "    salary DECIMAL(10, 2) NOT NULL,\n",
        "    salary_date DATE NOT NULL,\n",
        "    FOREIGN KEY (employee_id) REFERENCES Employees(employee_id)\n",
        ");\n",
        "\n",
        "CREATE TABLE Employee_Experience (\n",
        "    experience_id INTEGER PRIMARY KEY AUTOINCREMENT,\n",
        "    employee_id INTEGER,\n",
        "    years_of_experience INTEGER NOT NULL,\n",
        "    experience_date DATE NOT NULL,\n",
        "    FOREIGN KEY (employee_id) REFERENCES Employees(employee_id)\n",
        ");\n",
        "\n",
        "CREATE TABLE Technologies (\n",
        "    technology_id INTEGER PRIMARY KEY AUTOINCREMENT,\n",
        "    technology_name TEXT NOT NULL,\n",
        "    created_at TIMESTAMP DEFAULT CURRENT_TIMESTAMP\n",
        ");\n",
        "\n",
        "CREATE TABLE Employee_Technologies (\n",
        "    employee_id INTEGER,\n",
        "    technology_id INTEGER,\n",
        "    proficiency_level TEXT NOT NULL,\n",
        "    FOREIGN KEY (employee_id) REFERENCES Employees(employee_id),\n",
        "    FOREIGN KEY (technology_id) REFERENCES Technologies(technology_id),\n",
        "    PRIMARY KEY (employee_id, technology_id)\n",
        ");\n",
        "''')\n",
        "\n",
        "# Insert sample data\n",
        "cursor.execute('''\n",
        "INSERT INTO Employees (first_name, last_name, email, phone_number, date_of_birth, hire_date, status)\n",
        "VALUES ('John', 'Doe', 'john.doe@example.com', '123-456-7890', '1980-01-01', '2020-01-01', 'Active')\n",
        "''')\n",
        "\n",
        "cursor.execute('''\n",
        "INSERT INTO Employee_Location (employee_id, city, state, country, zip_code)\n",
        "VALUES (1, 'New York', 'NY', 'USA', '10001')\n",
        "''')\n",
        "\n",
        "cursor.execute('''\n",
        "INSERT INTO Employee_Salary (employee_id, salary, salary_date)\n",
        "VALUES (1, 60000.00, '2020-01-01')\n",
        "''')\n",
        "\n",
        "cursor.execute('''\n",
        "INSERT INTO Employee_Experience (employee_id, years_of_experience, experience_date)\n",
        "VALUES (1, 10, '2020-01-01')\n",
        "''')\n",
        "\n",
        "cursor.execute('''\n",
        "INSERT INTO Technologies (technology_name)\n",
        "VALUES ('Python')\n",
        "''')\n",
        "\n",
        "cursor.execute('''\n",
        "INSERT INTO Employee_Technologies (employee_id, technology_id, proficiency_level)\n",
        "VALUES (1, 1, 'Advanced')\n",
        "''')\n",
        "fake = Faker()\n",
        "\n",
        "# Insert 100 sample employees\n",
        "for _ in range(100):\n",
        "    first_name = fake.first_name()\n",
        "    last_name = fake.last_name()\n",
        "    email = fake.email()\n",
        "    phone_number = fake.phone_number()\n",
        "    date_of_birth = fake.date_of_birth(minimum_age=18, maximum_age=65)\n",
        "    hire_date = fake.date_this_decade()\n",
        "    status = random.choice(['Active', 'Inactive', 'On Leave'])\n",
        "\n",
        "    cursor.execute('''\n",
        "    INSERT INTO Employees (first_name, last_name, email, phone_number, date_of_birth, hire_date, status)\n",
        "    VALUES (?, ?, ?, ?, ?, ?, ?)\n",
        "    ''', (first_name, last_name, email, phone_number, date_of_birth, hire_date, status))\n",
        "\n",
        "# Insert corresponding locations, salaries, experiences, and technologies for each employee\n",
        "for employee_id in range(2, 102):\n",
        "    city = fake.city()\n",
        "    state = fake.state()\n",
        "    country = fake.country()\n",
        "    zip_code = fake.zipcode()\n",
        "\n",
        "    cursor.execute('''\n",
        "    INSERT INTO Employee_Location (employee_id, city, state, country, zip_code)\n",
        "    VALUES (?, ?, ?, ?, ?)\n",
        "    ''', (employee_id, city, state, country, zip_code))\n",
        "\n",
        "    salary = round(random.uniform(30000, 150000), 2)\n",
        "    salary_date = fake.date_this_decade()\n",
        "\n",
        "    cursor.execute('''\n",
        "    INSERT INTO Employee_Salary (employee_id, salary, salary_date)\n",
        "    VALUES (?, ?, ?)\n",
        "    ''', (employee_id, salary, salary_date))\n",
        "\n",
        "    years_of_experience = random.randint(1, 40)\n",
        "    experience_date = fake.date_this_decade()\n",
        "\n",
        "    cursor.execute('''\n",
        "    INSERT INTO Employee_Experience (employee_id, years_of_experience, experience_date)\n",
        "    VALUES (?, ?, ?)\n",
        "    ''', (employee_id, years_of_experience, experience_date))\n",
        "\n",
        "    technology_id = random.randint(1, 1)  # Assuming only one technology exists\n",
        "    proficiency_level = random.choice(['Beginner', 'Intermediate', 'Advanced'])\n",
        "\n",
        "    cursor.execute('''\n",
        "    INSERT INTO Employee_Technologies (employee_id, technology_id, proficiency_level)\n",
        "    VALUES (?, ?, ?)\n",
        "    ''', (employee_id, technology_id, proficiency_level))\n",
        "\n",
        "# Commit changes and close connection\n",
        "conn.commit()\n",
        "conn.close()\n"
      ],
      "metadata": {
        "id": "nXKrsXmtWDLC"
      },
      "id": "nXKrsXmtWDLC",
      "execution_count": null,
      "outputs": []
    },
    {
      "cell_type": "markdown",
      "id": "3GY3Q13NINd0",
      "metadata": {
        "id": "3GY3Q13NINd0"
      },
      "source": [
        "### Download and Run Jina Reranker v2\n",
        "\n",
        "The following code will download the model `jina-reranker-v2-base-multilingual` and run it locally:\n"
      ]
    },
    {
      "cell_type": "code",
      "execution_count": null,
      "id": "KB8xGaNXIjAC",
      "metadata": {
        "id": "KB8xGaNXIjAC",
        "outputId": "36742898-f079-4a56-ec10-2c1dec9f9ee4",
        "colab": {
          "base_uri": "https://localhost:8080/",
          "height": 1000,
          "referenced_widgets": [
            "dc3bff03a0564ce6be67a4de919e8936",
            "fe55ec2b53384ea7ba2298f79a801c4b",
            "476470526d164a18870df6bbe2acf853",
            "e1924ac88dfb4c3f851ce248e11cc956",
            "fec2a64ec5184dc989403ced2ebd05f1",
            "b4cdcebe5d394f269db85fe4fb765227",
            "95c947d5bdf247e8801cfe0fbf6cf23f",
            "0bc82f2ea3ea42bfb282bc7666e4ffa7",
            "fab6d204affe418e9b88af6aee63a474",
            "b82225b3a2cb49ea8e03e4f73161ee6d",
            "630fa96ab4574ae4899dd94ff228a2b5",
            "b2c2375a5314445e9f0391224155f111",
            "c9bf9b28391b4bc481cf998ce28d0f84",
            "ef0e01ad082545bf8604f29d23a616fe",
            "c211ce1a3f88495c968f13203cf1bf1d",
            "87e1c4654664439dac72b903de99b08f",
            "bc1771b257064af5be7e6748245fb616",
            "2962bc65af33468ebdcdc795f3dba565",
            "75a55a3ec4a14233ae20a1be026dbbb1",
            "88939dc1e8aa4d6e921165399348f1f0",
            "bd700c5714bb4020910f6fe7d36cd0f1",
            "83963742a66a4b339204a93797d1ce3b",
            "78caff78603c4692a6115f02b7ba09e7",
            "c48d7665f60b4a5a8120605165bd5ebc",
            "512fc4d347764ea2a7035c76f200e31f",
            "edddde5f70d642abab15612e846d2ec4",
            "82df7c2e6f6e4fe2b7995ba4af4373aa",
            "977729d5724b4b73ba78803d2d80da38",
            "d78da590643b4de69865b4f15c01b0f2",
            "08aa11ea8dfb4c9789158cd3297d7a1f",
            "b7546c94ef5041ff8f3ef775ca612e79",
            "a006b8cbac6d403c92e3dc115328be4b",
            "5d464803597f43d1af5ca96f753af7cd",
            "7e0d1defce004c5990294417eb87d102",
            "a76d5edb9e304bd18b1b7bc3f0b47956",
            "cbdd8d1fa23340bc8c65adbad4b93683",
            "1fd84402630f4af3b10b4e81747f737b",
            "b19e641353c14b95890f1cfc87667b40",
            "57ed361711cd4070a4c83a1ba2619f67",
            "614a2e3bf74b444c8750019ab9548134",
            "4f556cb394114cc58a20152ef8d174da",
            "6fe4edb7f93449698a79ebd74ac92eb4",
            "4c34de9fe5204f14b69704e3e75949b8",
            "d08758e795e34b09b7382e6a2aba6ab2",
            "113dd539d6774086b6ef2a60a904578f",
            "1232cef0b18f47ff9d8e2103fd7fd41e",
            "60e8696e78ac4a438ae9ebdb06bf2ebb",
            "47d651f4c97f47a9a06cfed835fdacd9",
            "cf65ecbed8714b3d8a9914ef6dd998bd",
            "8c4c889625444614aa83fc39dd782e3f",
            "dcff4ef843d94b27879ba005724ea661",
            "29047e2b66b643ad8debab2b79483777",
            "2b00e39eaa06464192b5ee70a1365cd4",
            "462e78322cc24290a511bbb287a5edde",
            "477db8ef2e0b4a1eb6a4eff4a9166ff1",
            "d48cc2e484144818a81e176ab2119b62",
            "a694af3343db431b9c25c337cf2a2c2a",
            "2fc0df206173463d80a1d1b05ff310c3",
            "4c55f4d6e72149878a6ce111adac2885",
            "48556551c2d2492c8c181a50bbfa6c27",
            "3811bb982d2c4c869c3b4a31eefe0297",
            "90246533da9e47c1b446f66c8191332e",
            "35f655fad0da45c68bf3e38e844e8074",
            "aced2b7e0ac24d6fa6f088198dab9090",
            "5c4cdb389d084a0a9365c263ff1ed3d2",
            "ed32072160fa476b8162d47aedde79ce",
            "e9902f2f3555481daaa6ff2d3a07b340",
            "defbe1e6a0e24ee9860bb1e9b08f442c",
            "a918c78e40e8432bb202931ae766e9f9",
            "a88cf8446b0c4e3db4ff8a6a114f4c73",
            "2bb6e0343e8f45848793b561fa1f843d",
            "a67d4d05556d4b2388ec40055511e436",
            "ce6f7f5533f64048af05f0b27bb17140",
            "200787a07484408d9cdea11896abd456",
            "79b68f4c8c934ebe833a4552fe550ce4",
            "0e3a557d9b1c4b438951156eacbb024d",
            "a6d53ca8e3f441dfa611bbf842313022",
            "c881c12d50ca47dcbfe2b030a072ee88",
            "f483e9e1f70344ae89f51ed22a163a63",
            "e7545458059142e1a53743c1b3913690",
            "baabfc15e69c4ffdad52f7b37437c96a",
            "ccfc627a72e0481db0320c4d7f5c78dc",
            "ad1b24d9fea34b5c9282e7d4e5057058",
            "3ce7afd2bb434009a9a5197c6ad41148",
            "6f6f814bd1684b109cdfce29f0fea8f0",
            "d1c8d29942b940ecaa44631087c2d7eb",
            "670e520b26074c7abef41281e23b84a7",
            "73185cc5f8184421ae1114c23b185ecd",
            "3738ba2e7aa24dee819687aca806821c",
            "07e01dcb87004f72bd65b8176415de3c",
            "aaa3a449aa9f413e8bfb6fe45c363176",
            "7b8e39fbf62a4ff4b904533260e21573",
            "e601c904b51a423f9c1b21d707896c93",
            "2bfb726a22d445168db07404d757c914",
            "228e39390da04b0faed81deba31ff0de",
            "16a80c81265049909b448e02ef457995",
            "f937d82a21f741eaa650daaf501f173e",
            "403d71f5f32d4d4888dfe702eb5dd472",
            "31ca5d2790b04659bc4d5ca51db1a4d2"
          ]
        }
      },
      "outputs": [
        {
          "output_type": "stream",
          "name": "stderr",
          "text": [
            "/usr/local/lib/python3.10/dist-packages/huggingface_hub/utils/_auth.py:94: UserWarning: \n",
            "The secret `HF_TOKEN` does not exist in your Colab secrets.\n",
            "To authenticate with the Hugging Face Hub, create a token in your settings tab (https://huggingface.co/settings/tokens), set it as secret in your Google Colab and restart your session.\n",
            "You will be able to reuse this secret in all of your notebooks.\n",
            "Please note that authentication is recommended but still optional to access public models or datasets.\n",
            "  warnings.warn(\n"
          ]
        },
        {
          "output_type": "display_data",
          "data": {
            "text/plain": [
              "config.json:   0%|          | 0.00/1.10k [00:00<?, ?B/s]"
            ],
            "application/vnd.jupyter.widget-view+json": {
              "version_major": 2,
              "version_minor": 0,
              "model_id": "dc3bff03a0564ce6be67a4de919e8936"
            }
          },
          "metadata": {}
        },
        {
          "output_type": "display_data",
          "data": {
            "text/plain": [
              "configuration_xlm_roberta.py:   0%|          | 0.00/2.73k [00:00<?, ?B/s]"
            ],
            "application/vnd.jupyter.widget-view+json": {
              "version_major": 2,
              "version_minor": 0,
              "model_id": "b2c2375a5314445e9f0391224155f111"
            }
          },
          "metadata": {}
        },
        {
          "output_type": "stream",
          "name": "stderr",
          "text": [
            "A new version of the following files was downloaded from https://huggingface.co/jinaai/jina-reranker-v2-base-multilingual:\n",
            "- configuration_xlm_roberta.py\n",
            ". Make sure to double-check they do not contain any added malicious code. To avoid downloading new versions of the code file, you can pin a revision.\n"
          ]
        },
        {
          "output_type": "display_data",
          "data": {
            "text/plain": [
              "modeling_xlm_roberta.py:   0%|          | 0.00/43.8k [00:00<?, ?B/s]"
            ],
            "application/vnd.jupyter.widget-view+json": {
              "version_major": 2,
              "version_minor": 0,
              "model_id": "78caff78603c4692a6115f02b7ba09e7"
            }
          },
          "metadata": {}
        },
        {
          "output_type": "display_data",
          "data": {
            "text/plain": [
              "xlm_padding.py:   0%|          | 0.00/9.82k [00:00<?, ?B/s]"
            ],
            "application/vnd.jupyter.widget-view+json": {
              "version_major": 2,
              "version_minor": 0,
              "model_id": "7e0d1defce004c5990294417eb87d102"
            }
          },
          "metadata": {}
        },
        {
          "output_type": "stream",
          "name": "stderr",
          "text": [
            "A new version of the following files was downloaded from https://huggingface.co/jinaai/jina-reranker-v2-base-multilingual:\n",
            "- xlm_padding.py\n",
            ". Make sure to double-check they do not contain any added malicious code. To avoid downloading new versions of the code file, you can pin a revision.\n"
          ]
        },
        {
          "output_type": "display_data",
          "data": {
            "text/plain": [
              "mlp.py:   0%|          | 0.00/6.21k [00:00<?, ?B/s]"
            ],
            "application/vnd.jupyter.widget-view+json": {
              "version_major": 2,
              "version_minor": 0,
              "model_id": "113dd539d6774086b6ef2a60a904578f"
            }
          },
          "metadata": {}
        },
        {
          "output_type": "stream",
          "name": "stderr",
          "text": [
            "A new version of the following files was downloaded from https://huggingface.co/jinaai/jina-reranker-v2-base-multilingual:\n",
            "- mlp.py\n",
            ". Make sure to double-check they do not contain any added malicious code. To avoid downloading new versions of the code file, you can pin a revision.\n"
          ]
        },
        {
          "output_type": "display_data",
          "data": {
            "text/plain": [
              "block.py:   0%|          | 0.00/19.7k [00:00<?, ?B/s]"
            ],
            "application/vnd.jupyter.widget-view+json": {
              "version_major": 2,
              "version_minor": 0,
              "model_id": "d48cc2e484144818a81e176ab2119b62"
            }
          },
          "metadata": {}
        },
        {
          "output_type": "display_data",
          "data": {
            "text/plain": [
              "mha.py:   0%|          | 0.00/28.0k [00:00<?, ?B/s]"
            ],
            "application/vnd.jupyter.widget-view+json": {
              "version_major": 2,
              "version_minor": 0,
              "model_id": "e9902f2f3555481daaa6ff2d3a07b340"
            }
          },
          "metadata": {}
        },
        {
          "output_type": "stream",
          "name": "stderr",
          "text": [
            "A new version of the following files was downloaded from https://huggingface.co/jinaai/jina-reranker-v2-base-multilingual:\n",
            "- mha.py\n",
            ". Make sure to double-check they do not contain any added malicious code. To avoid downloading new versions of the code file, you can pin a revision.\n",
            "A new version of the following files was downloaded from https://huggingface.co/jinaai/jina-reranker-v2-base-multilingual:\n",
            "- block.py\n",
            "- mha.py\n",
            ". Make sure to double-check they do not contain any added malicious code. To avoid downloading new versions of the code file, you can pin a revision.\n"
          ]
        },
        {
          "output_type": "display_data",
          "data": {
            "text/plain": [
              "embedding.py:   0%|          | 0.00/2.56k [00:00<?, ?B/s]"
            ],
            "application/vnd.jupyter.widget-view+json": {
              "version_major": 2,
              "version_minor": 0,
              "model_id": "c881c12d50ca47dcbfe2b030a072ee88"
            }
          },
          "metadata": {}
        },
        {
          "output_type": "stream",
          "name": "stderr",
          "text": [
            "A new version of the following files was downloaded from https://huggingface.co/jinaai/jina-reranker-v2-base-multilingual:\n",
            "- embedding.py\n",
            ". Make sure to double-check they do not contain any added malicious code. To avoid downloading new versions of the code file, you can pin a revision.\n",
            "A new version of the following files was downloaded from https://huggingface.co/jinaai/jina-reranker-v2-base-multilingual:\n",
            "- modeling_xlm_roberta.py\n",
            "- xlm_padding.py\n",
            "- mlp.py\n",
            "- block.py\n",
            "- embedding.py\n",
            ". Make sure to double-check they do not contain any added malicious code. To avoid downloading new versions of the code file, you can pin a revision.\n"
          ]
        },
        {
          "output_type": "display_data",
          "data": {
            "text/plain": [
              "model.safetensors:   0%|          | 0.00/557M [00:00<?, ?B/s]"
            ],
            "application/vnd.jupyter.widget-view+json": {
              "version_major": 2,
              "version_minor": 0,
              "model_id": "3738ba2e7aa24dee819687aca806821c"
            }
          },
          "metadata": {}
        },
        {
          "output_type": "stream",
          "name": "stderr",
          "text": [
            "WARNING:transformers_modules.jinaai.jina-reranker-v2-base-multilingual.eed787badf7784e1a25c0eaa428627c8cbef511e.modeling_xlm_roberta:flash_attn is not installed. Using PyTorch native attention implementation.\n",
            "WARNING:transformers_modules.jinaai.jina-reranker-v2-base-multilingual.eed787badf7784e1a25c0eaa428627c8cbef511e.modeling_xlm_roberta:flash_attn is not installed. Using PyTorch native attention implementation.\n",
            "WARNING:transformers_modules.jinaai.jina-reranker-v2-base-multilingual.eed787badf7784e1a25c0eaa428627c8cbef511e.modeling_xlm_roberta:flash_attn is not installed. Using PyTorch native attention implementation.\n",
            "WARNING:transformers_modules.jinaai.jina-reranker-v2-base-multilingual.eed787badf7784e1a25c0eaa428627c8cbef511e.modeling_xlm_roberta:flash_attn is not installed. Using PyTorch native attention implementation.\n",
            "WARNING:transformers_modules.jinaai.jina-reranker-v2-base-multilingual.eed787badf7784e1a25c0eaa428627c8cbef511e.modeling_xlm_roberta:flash_attn is not installed. Using PyTorch native attention implementation.\n",
            "WARNING:transformers_modules.jinaai.jina-reranker-v2-base-multilingual.eed787badf7784e1a25c0eaa428627c8cbef511e.modeling_xlm_roberta:flash_attn is not installed. Using PyTorch native attention implementation.\n",
            "WARNING:transformers_modules.jinaai.jina-reranker-v2-base-multilingual.eed787badf7784e1a25c0eaa428627c8cbef511e.modeling_xlm_roberta:flash_attn is not installed. Using PyTorch native attention implementation.\n",
            "WARNING:transformers_modules.jinaai.jina-reranker-v2-base-multilingual.eed787badf7784e1a25c0eaa428627c8cbef511e.modeling_xlm_roberta:flash_attn is not installed. Using PyTorch native attention implementation.\n",
            "WARNING:transformers_modules.jinaai.jina-reranker-v2-base-multilingual.eed787badf7784e1a25c0eaa428627c8cbef511e.modeling_xlm_roberta:flash_attn is not installed. Using PyTorch native attention implementation.\n",
            "WARNING:transformers_modules.jinaai.jina-reranker-v2-base-multilingual.eed787badf7784e1a25c0eaa428627c8cbef511e.modeling_xlm_roberta:flash_attn is not installed. Using PyTorch native attention implementation.\n",
            "WARNING:transformers_modules.jinaai.jina-reranker-v2-base-multilingual.eed787badf7784e1a25c0eaa428627c8cbef511e.modeling_xlm_roberta:flash_attn is not installed. Using PyTorch native attention implementation.\n",
            "WARNING:transformers_modules.jinaai.jina-reranker-v2-base-multilingual.eed787badf7784e1a25c0eaa428627c8cbef511e.modeling_xlm_roberta:flash_attn is not installed. Using PyTorch native attention implementation.\n",
            "WARNING:transformers_modules.jinaai.jina-reranker-v2-base-multilingual.eed787badf7784e1a25c0eaa428627c8cbef511e.modeling_xlm_roberta:flash_attn is not installed. Using PyTorch native attention implementation.\n"
          ]
        },
        {
          "output_type": "execute_result",
          "data": {
            "text/plain": [
              "XLMRobertaForSequenceClassification(\n",
              "  (roberta): XLMRobertaModel(\n",
              "    (embeddings): XLMRobertaEmbeddings(\n",
              "      (word_embeddings): Embedding(250002, 768, padding_idx=1)\n",
              "      (position_embeddings): Embedding(1026, 768)\n",
              "      (token_type_embeddings): Embedding(1, 768)\n",
              "    )\n",
              "    (emb_drop): Dropout(p=0.1, inplace=False)\n",
              "    (emb_ln): LayerNorm((768,), eps=1e-05, elementwise_affine=True)\n",
              "    (encoder): XLMRobertaEncoder(\n",
              "      (layers): ModuleList(\n",
              "        (0-11): 12 x Block(\n",
              "          (mixer): MHA(\n",
              "            (Wqkv): LinearResidual(in_features=768, out_features=2304, bias=True)\n",
              "            (inner_attn): SelfAttention(\n",
              "              (drop): Dropout(p=0.1, inplace=False)\n",
              "            )\n",
              "            (inner_cross_attn): CrossAttention(\n",
              "              (drop): Dropout(p=0.1, inplace=False)\n",
              "            )\n",
              "            (out_proj): Linear(in_features=768, out_features=768, bias=True)\n",
              "          )\n",
              "          (dropout1): Dropout(p=0.1, inplace=False)\n",
              "          (drop_path1): StochasticDepth(p=0.0, mode=row)\n",
              "          (norm1): LayerNorm((768,), eps=1e-05, elementwise_affine=True)\n",
              "          (mlp): Mlp(\n",
              "            (fc1): Linear(in_features=768, out_features=3072, bias=True)\n",
              "            (fc2): Linear(in_features=3072, out_features=768, bias=True)\n",
              "          )\n",
              "          (dropout2): Dropout(p=0.1, inplace=False)\n",
              "          (drop_path2): StochasticDepth(p=0.0, mode=row)\n",
              "          (norm2): LayerNorm((768,), eps=1e-05, elementwise_affine=True)\n",
              "        )\n",
              "      )\n",
              "    )\n",
              "  )\n",
              "  (classifier): XLMRobertaClassificationHead(\n",
              "    (dense): Linear(in_features=768, out_features=768, bias=True)\n",
              "    (dropout): Dropout(p=0.1, inplace=False)\n",
              "    (out_proj): Linear(in_features=768, out_features=1, bias=True)\n",
              "  )\n",
              ")"
            ]
          },
          "metadata": {},
          "execution_count": 7
        }
      ],
      "source": [
        "from transformers import AutoModelForSequenceClassification\n",
        "\n",
        "reranker_model = AutoModelForSequenceClassification.from_pretrained(\n",
        "    'jinaai/jina-reranker-v2-base-multilingual',\n",
        "    torch_dtype=\"auto\",\n",
        "    trust_remote_code=True,\n",
        ")\n",
        "\n",
        "reranker_model.to('cuda') # or 'cpu' if no GPU is available\n",
        "reranker_model.eval()\n"
      ]
    },
    {
      "cell_type": "markdown",
      "id": "SGgk4EmkOcy4",
      "metadata": {
        "id": "SGgk4EmkOcy4"
      },
      "source": [
        "### Set up the Interface to Mistral Instruct\n",
        "\n",
        "We will use LlamaIndex to create a holder object for the connection to the Hugging Face inference API and to the copy of `mistralai/Mixtral-8x7B-Instruct-v0.1` running there."
      ]
    },
    {
      "cell_type": "markdown",
      "id": "ee7bedf5-4730-4ac1-8a93-7f0135779d9b",
      "metadata": {
        "id": "ee7bedf5-4730-4ac1-8a93-7f0135779d9b"
      },
      "source": [
        "\n",
        "First, get a Hugging Face access token from your [Hugging Face Account Settings page](https://huggingface.co/settings/tokens).\n",
        "\n",
        "Enter it when prompted below:"
      ]
    },
    {
      "cell_type": "code",
      "execution_count": null,
      "id": "54122f11-e0c3-4e89-bf54-f0eece57cf71",
      "metadata": {
        "id": "54122f11-e0c3-4e89-bf54-f0eece57cf71",
        "outputId": "00c3d491-76d5-47fb-b388-425370ee93b4",
        "colab": {
          "base_uri": "https://localhost:8080/"
        }
      },
      "outputs": [
        {
          "name": "stdout",
          "output_type": "stream",
          "text": [
            "Paste your Hugging Face access token here: \n",
            "··········\n"
          ]
        }
      ],
      "source": [
        "import getpass\n",
        "\n",
        "print(\"Paste your Hugging Face access token here: \")\n",
        "hf_token = getpass.getpass()"
      ]
    },
    {
      "cell_type": "markdown",
      "id": "4HpY0xohPCWW",
      "metadata": {
        "id": "4HpY0xohPCWW"
      },
      "source": [
        "Next, initialize an instance of the `HuggingFaceInferenceAPI` class from LlamaIndex and store it as `mistral_llm`:"
      ]
    },
    {
      "cell_type": "code",
      "execution_count": null,
      "id": "e4a2ea12-d5d8-469b-afac-af9aed5b2240",
      "metadata": {
        "id": "e4a2ea12-d5d8-469b-afac-af9aed5b2240",
        "outputId": "6b25cc7f-a5f3-4b19-f13f-2619cc136fd4",
        "colab": {
          "base_uri": "https://localhost:8080/"
        }
      },
      "outputs": [
        {
          "output_type": "stream",
          "name": "stderr",
          "text": [
            "<ipython-input-9-2aa73ccaea1f>:3: DeprecationWarning: Call to deprecated class HuggingFaceInferenceAPI. (Deprecated in favor of `HuggingFaceInferenceAPI` from `llama-index-llms-huggingface-api` which should be used instead.)\n",
            "  mistral_llm = HuggingFaceInferenceAPI(\n"
          ]
        }
      ],
      "source": [
        "from llama_index.llms.huggingface import HuggingFaceInferenceAPI\n",
        "\n",
        "mistral_llm = HuggingFaceInferenceAPI(\n",
        "    model_name=\"mistralai/Mixtral-8x7B-Instruct-v0.1\", token=hf_token\n",
        ")"
      ]
    },
    {
      "cell_type": "markdown",
      "id": "9257efd9-806a-4ada-871a-406b397fe127",
      "metadata": {
        "id": "9257efd9-806a-4ada-871a-406b397fe127"
      },
      "source": [
        "## Using SQL-Aware Jina Reranker v2\n",
        "\n",
        "We extracted the eight table definitions from the [database import files located on GitHub](https://github.com/bbrumm/databasestar/tree/main/sample_databases/sample_db_videogames/sqlite). Run the command below to put them into a Python list named `table_declarations`:"
      ]
    },
    {
      "cell_type": "code",
      "execution_count": null,
      "id": "74677bb6-cec4-4ddc-8379-d13fb3366fb1",
      "metadata": {
        "id": "74677bb6-cec4-4ddc-8379-d13fb3366fb1"
      },
      "outputs": [],
      "source": [
        "table_declarations = [\n",
        "    'CREATE TABLE Employees (\\n\\temployee_id INT PRIMARY KEY AUTO_INCREMENT,\\n\\tfirst_name VARCHAR(100) NOT NULL,\\n\\tlast_name VARCHAR(100) NOT NULL,\\n\\temail VARCHAR(255) UNIQUE NOT NULL,\\n\\tphone_number VARCHAR(20),\\n\\tdate_of_birth DATE,\\n\\thire_date DATE NOT NULL,\\n\\tstatus ENUM(\\'Active\\', \\'Inactive\\', \\'On Leave\\') DEFAULT \\'Active\\',\\n\\tcreated_at TIMESTAMP DEFAULT CURRENT_TIMESTAMP,\\n\\tupdated_at TIMESTAMP DEFAULT CURRENT_TIMESTAMP ON UPDATE CURRENT_TIMESTAMP\\n);',\n",
        "    'CREATE TABLE Employee_Location (\\n\\tlocation_id INT PRIMARY KEY AUTO_INCREMENT,\\n\\temployee_id INT,\\n\\tcity VARCHAR(255) NOT NULL,\\n\\tstate VARCHAR(255),\\n\\tcountry VARCHAR(255),\\n\\tzip_code VARCHAR(20),\\n\\tFOREIGN KEY (employee_id) REFERENCES Employees(employee_id)\\n);',\n",
        "    'CREATE TABLE Employee_Salary (\\n\\tsalary_id INT PRIMARY KEY AUTO_INCREMENT,\\n\\temployee_id INT,\\n\\tsalary DECIMAL(10, 2) NOT NULL,\\n\\tsalary_date DATE NOT NULL,\\n\\tFOREIGN KEY (employee_id) REFERENCES Employees(employee_id)\\n);',\n",
        "    'CREATE TABLE Employee_Experience (\\n\\texperience_id INT PRIMARY KEY AUTO_INCREMENT,\\n\\temployee_id INT,\\n\\tyears_of_experience INT NOT NULL,\\n\\texperience_date DATE NOT NULL,\\n\\tFOREIGN KEY (employee_id) REFERENCES Employees(employee_id)\\n);',\n",
        "    'CREATE TABLE Technologies (\\n\\ttechnology_id INT PRIMARY KEY AUTO_INCREMENT,\\n\\ttechnology_name VARCHAR(255) NOT NULL,\\n\\tcreated_at TIMESTAMP DEFAULT CURRENT_TIMESTAMP\\n);',\n",
        "    'CREATE TABLE Employee_Technologies (\\n\\temployee_id INT,\\n\\ttechnology_id INT,\\n\\tproficiency_level ENUM(\\'Beginner\\', \\'Intermediate\\', \\'Advanced\\') NOT NULL,\\n\\tFOREIGN KEY (employee_id) REFERENCES Employees(employee_id),\\n\\tFOREIGN KEY (technology_id) REFERENCES Technologies(technology_id),\\n\\tPRIMARY KEY (employee_id, technology_id)\\n);'\n",
        "]"
      ]
    },
    {
      "cell_type": "markdown",
      "id": "I8ZRU3bxQZUf",
      "metadata": {
        "id": "I8ZRU3bxQZUf"
      },
      "source": [
        "Now, we define a function that takes a natural language query and the list of table definitions, scores all of them with Jina Reranker v2, returning them in order from highest scoring to lowest:"
      ]
    },
    {
      "cell_type": "code",
      "execution_count": null,
      "id": "kJ_JwS-vQkj9",
      "metadata": {
        "id": "kJ_JwS-vQkj9"
      },
      "outputs": [],
      "source": [
        "from typing import List, Tuple\n",
        "\n",
        "def rank_tables(query: str, table_specs: List[str], top_n:int=0) -> List[Tuple[float, str]]:\n",
        "  \"\"\"\n",
        "  Get sorted pairs of scores and table specifications, then return the top N,\n",
        "  or all if top_n is 0 or default.\n",
        "  \"\"\"\n",
        "  pairs = [[query, table_spec] for table_spec in table_specs]\n",
        "  scores = reranker_model.compute_score(pairs)\n",
        "  scored_tables = [(score, table_spec) for score, table_spec in zip(scores, table_specs)]\n",
        "  scored_tables.sort(key=lambda x: x[0], reverse=True)\n",
        "  if top_n and top_n < len(scored_tables):\n",
        "    return scored_tables[0:top_n]\n",
        "  return scored_tables"
      ]
    },
    {
      "cell_type": "markdown",
      "id": "vk1YYqzesB-f",
      "metadata": {
        "id": "vk1YYqzesB-f"
      },
      "source": [
        "Jina Reranker v2 scores every table definition we give it and by default this function will return all of them with their scores. The optional argument `top_n` limits the number of results returned to a user-defined number, starting with the highest scoring one."
      ]
    },
    {
      "cell_type": "markdown",
      "id": "zD1rdBiYQa_H",
      "metadata": {
        "id": "zD1rdBiYQa_H"
      },
      "source": [
        "Try it out. First, define a query:"
      ]
    },
    {
      "cell_type": "markdown",
      "source": [],
      "metadata": {
        "id": "MR2sx8jJXriI"
      },
      "id": "MR2sx8jJXriI"
    },
    {
      "cell_type": "code",
      "execution_count": null,
      "id": "4859647d-2bc2-4238-a5a1-235bed4c4f55",
      "metadata": {
        "id": "4859647d-2bc2-4238-a5a1-235bed4c4f55",
        "outputId": "241e3614-d0e3-4d5c-b2bb-f219c736cc3a",
        "colab": {
          "base_uri": "https://localhost:8080/",
          "height": 35
        }
      },
      "outputs": [
        {
          "output_type": "execute_result",
          "data": {
            "text/plain": [
              "'find emloyee where email is john.doe@example.com'"
            ],
            "application/vnd.google.colaboratory.intrinsic+json": {
              "type": "string"
            }
          },
          "metadata": {},
          "execution_count": 31
        }
      ],
      "source": [
        "user_query = \"find emloyee where email is john.doe@example.com\"\n",
        "user_query"
      ]
    },
    {
      "cell_type": "markdown",
      "id": "H0O6qqMGRfu2",
      "metadata": {
        "id": "H0O6qqMGRfu2"
      },
      "source": [
        "Run `rank_tables` to get a list of table definitions back. Let's set `top_n` to 3 to limit the return list size and assign it to the variable `ranked_tables`, then inspect the result:"
      ]
    },
    {
      "cell_type": "code",
      "execution_count": null,
      "id": "0OU98s_aRWqM",
      "metadata": {
        "id": "0OU98s_aRWqM",
        "outputId": "e1a76c3e-b011-4c56-d28a-cc19394c966c",
        "colab": {
          "base_uri": "https://localhost:8080/"
        }
      },
      "outputs": [
        {
          "output_type": "execute_result",
          "data": {
            "text/plain": [
              "[(0.13296423852443695,\n",
              "  'CREATE TABLE Employee_Location (\\n\\tlocation_id INT PRIMARY KEY AUTO_INCREMENT,\\n\\temployee_id INT,\\n\\tcity VARCHAR(255) NOT NULL,\\n\\tstate VARCHAR(255),\\n\\tcountry VARCHAR(255),\\n\\tzip_code VARCHAR(20),\\n\\tFOREIGN KEY (employee_id) REFERENCES Employees(employee_id)\\n);'),\n",
              " (0.10521054267883301,\n",
              "  \"CREATE TABLE Employees (\\n\\temployee_id INT PRIMARY KEY AUTO_INCREMENT,\\n\\tfirst_name VARCHAR(100) NOT NULL,\\n\\tlast_name VARCHAR(100) NOT NULL,\\n\\temail VARCHAR(255) UNIQUE NOT NULL,\\n\\tphone_number VARCHAR(20),\\n\\tdate_of_birth DATE,\\n\\thire_date DATE NOT NULL,\\n\\tstatus ENUM('Active', 'Inactive', 'On Leave') DEFAULT 'Active',\\n\\tcreated_at TIMESTAMP DEFAULT CURRENT_TIMESTAMP,\\n\\tupdated_at TIMESTAMP DEFAULT CURRENT_TIMESTAMP ON UPDATE CURRENT_TIMESTAMP\\n);\"),\n",
              " (0.05834583938121796,\n",
              "  'CREATE TABLE Employee_Experience (\\n\\texperience_id INT PRIMARY KEY AUTO_INCREMENT,\\n\\temployee_id INT,\\n\\tyears_of_experience INT NOT NULL,\\n\\texperience_date DATE NOT NULL,\\n\\tFOREIGN KEY (employee_id) REFERENCES Employees(employee_id)\\n);'),\n",
              " (0.052618950605392456,\n",
              "  \"CREATE TABLE Employee_Technologies (\\n\\temployee_id INT,\\n\\ttechnology_id INT,\\n\\tproficiency_level ENUM('Beginner', 'Intermediate', 'Advanced') NOT NULL,\\n\\tFOREIGN KEY (employee_id) REFERENCES Employees(employee_id),\\n\\tFOREIGN KEY (technology_id) REFERENCES Technologies(technology_id),\\n\\tPRIMARY KEY (employee_id, technology_id)\\n);\"),\n",
              " (0.048136770725250244,\n",
              "  'CREATE TABLE Employee_Salary (\\n\\tsalary_id INT PRIMARY KEY AUTO_INCREMENT,\\n\\temployee_id INT,\\n\\tsalary DECIMAL(10, 2) NOT NULL,\\n\\tsalary_date DATE NOT NULL,\\n\\tFOREIGN KEY (employee_id) REFERENCES Employees(employee_id)\\n);'),\n",
              " (0.023330770432949066,\n",
              "  'CREATE TABLE Technologies (\\n\\ttechnology_id INT PRIMARY KEY AUTO_INCREMENT,\\n\\ttechnology_name VARCHAR(255) NOT NULL,\\n\\tcreated_at TIMESTAMP DEFAULT CURRENT_TIMESTAMP\\n);')]"
            ]
          },
          "metadata": {},
          "execution_count": 32
        }
      ],
      "source": [
        "ranked_tables = rank_tables(user_query, table_declarations, top_n=10)\n",
        "ranked_tables"
      ]
    },
    {
      "cell_type": "markdown",
      "id": "1Oh7cX_WT-bc",
      "metadata": {
        "id": "1Oh7cX_WT-bc"
      },
      "source": [
        "The output should include the tables `region_sales`, `platform` and `game_platform`, which all seem to be reasonable places to look for an answer to the query."
      ]
    },
    {
      "cell_type": "markdown",
      "id": "adf28cd8-974a-457d-90b6-8719d8d860fc",
      "metadata": {
        "id": "adf28cd8-974a-457d-90b6-8719d8d860fc"
      },
      "source": [
        "## Using Mistral Instruct to Generate SQL\n",
        "\n",
        "We're going to have Mistral Instruct v0.1 write an SQL query that fulfils the user's query, based on the declarations of the top three tables according to the reranker."
      ]
    },
    {
      "cell_type": "markdown",
      "id": "df5d5f53-9cac-42ad-8ac8-627882e1046c",
      "metadata": {
        "id": "df5d5f53-9cac-42ad-8ac8-627882e1046c"
      },
      "source": [
        "First, we make a prompt for that purpose using LlamaIndex' `PromptTemplate` class:"
      ]
    },
    {
      "cell_type": "code",
      "execution_count": null,
      "id": "660c810a-96ff-4726-9bf1-8084ada9a80e",
      "metadata": {
        "id": "660c810a-96ff-4726-9bf1-8084ada9a80e"
      },
      "outputs": [],
      "source": [
        "from llama_index.core import PromptTemplate\n",
        "\n",
        "make_sql_prompt_tmpl_text = (\n",
        "    \"\"\"\n",
        "Generate a SQL query to answer the following question from the user:\n",
        "\\\"{query_str}\\\"\n",
        "\n",
        "The SQL query should use only tables with the following SQL definitions:\n",
        "\n",
        "Table 1:\n",
        "{table_1}\n",
        "\n",
        "Table 2:\n",
        "{table_2}\n",
        "\n",
        "Table 3:\n",
        "{table_3}\n",
        "\n",
        "Table 4:\n",
        "{table_4}\n",
        "\n",
        "Table 5:\n",
        "{table_5}\n",
        "\n",
        "Table 6:\n",
        "{table_6}\n",
        "\n",
        "Make sure you ONLY output an SQL query and no explanation.\n",
        "\"\"\"\n",
        ")\n",
        "make_sql_prompt_tmpl = PromptTemplate(make_sql_prompt_tmpl_text)"
      ]
    },
    {
      "cell_type": "markdown",
      "id": "594693a2-deb0-4c58-bc82-cb3d6428b1a4",
      "metadata": {
        "id": "594693a2-deb0-4c58-bc82-cb3d6428b1a4"
      },
      "source": [
        "We use the `format` method to fill in the template fields with the user query and top three table declarations from Jina Reranker v2:"
      ]
    },
    {
      "cell_type": "code",
      "execution_count": null,
      "id": "9f620d53-f459-45f9-936f-1d16a97ae357",
      "metadata": {
        "id": "9f620d53-f459-45f9-936f-1d16a97ae357"
      },
      "outputs": [],
      "source": [
        "make_sql_prompt = make_sql_prompt_tmpl.format(query_str=\"List the employess Living in France\",\n",
        "                                              table_1=ranked_tables[0][1],\n",
        "                                              table_2=ranked_tables[1][1],\n",
        "                                              table_3=ranked_tables[2][1],\n",
        "                                              table_4=ranked_tables[3][1],\n",
        "                                              table_5=ranked_tables[4][1],\n",
        "                                              table_6=ranked_tables[5][1])"
      ]
    },
    {
      "cell_type": "markdown",
      "id": "dafb58d0-2bfb-412a-ae0b-6cb88a797045",
      "metadata": {
        "id": "dafb58d0-2bfb-412a-ae0b-6cb88a797045"
      },
      "source": [
        "You can see the actual text we're going to pass to Mistral Instruct:"
      ]
    },
    {
      "cell_type": "code",
      "execution_count": null,
      "id": "bf1cd783-e823-4292-8b60-42a10c2e54c0",
      "metadata": {
        "id": "bf1cd783-e823-4292-8b60-42a10c2e54c0",
        "outputId": "7ce0f87f-1409-4d43-e2ea-f9372eca2de3",
        "colab": {
          "base_uri": "https://localhost:8080/"
        }
      },
      "outputs": [
        {
          "output_type": "stream",
          "name": "stdout",
          "text": [
            "\n",
            "Generate a SQL query to answer the following question from the user:\n",
            "\"List the employess Living in France\"\n",
            "\n",
            "The SQL query should use only tables with the following SQL definitions:\n",
            "\n",
            "Table 1:\n",
            "CREATE TABLE Employee_Location (\n",
            "\tlocation_id INT PRIMARY KEY AUTO_INCREMENT,\n",
            "\temployee_id INT,\n",
            "\tcity VARCHAR(255) NOT NULL,\n",
            "\tstate VARCHAR(255),\n",
            "\tcountry VARCHAR(255),\n",
            "\tzip_code VARCHAR(20),\n",
            "\tFOREIGN KEY (employee_id) REFERENCES Employees(employee_id)\n",
            ");\n",
            "\n",
            "Table 2:\n",
            "CREATE TABLE Employees (\n",
            "\temployee_id INT PRIMARY KEY AUTO_INCREMENT,\n",
            "\tfirst_name VARCHAR(100) NOT NULL,\n",
            "\tlast_name VARCHAR(100) NOT NULL,\n",
            "\temail VARCHAR(255) UNIQUE NOT NULL,\n",
            "\tphone_number VARCHAR(20),\n",
            "\tdate_of_birth DATE,\n",
            "\thire_date DATE NOT NULL,\n",
            "\tstatus ENUM('Active', 'Inactive', 'On Leave') DEFAULT 'Active',\n",
            "\tcreated_at TIMESTAMP DEFAULT CURRENT_TIMESTAMP,\n",
            "\tupdated_at TIMESTAMP DEFAULT CURRENT_TIMESTAMP ON UPDATE CURRENT_TIMESTAMP\n",
            ");\n",
            "\n",
            "Table 3:\n",
            "CREATE TABLE Employee_Experience (\n",
            "\texperience_id INT PRIMARY KEY AUTO_INCREMENT,\n",
            "\temployee_id INT,\n",
            "\tyears_of_experience INT NOT NULL,\n",
            "\texperience_date DATE NOT NULL,\n",
            "\tFOREIGN KEY (employee_id) REFERENCES Employees(employee_id)\n",
            ");\n",
            "\n",
            "Table 4:\n",
            "CREATE TABLE Employee_Technologies (\n",
            "\temployee_id INT,\n",
            "\ttechnology_id INT,\n",
            "\tproficiency_level ENUM('Beginner', 'Intermediate', 'Advanced') NOT NULL,\n",
            "\tFOREIGN KEY (employee_id) REFERENCES Employees(employee_id),\n",
            "\tFOREIGN KEY (technology_id) REFERENCES Technologies(technology_id),\n",
            "\tPRIMARY KEY (employee_id, technology_id)\n",
            ");\n",
            "\n",
            "Table 5:\n",
            "CREATE TABLE Employee_Salary (\n",
            "\tsalary_id INT PRIMARY KEY AUTO_INCREMENT,\n",
            "\temployee_id INT,\n",
            "\tsalary DECIMAL(10, 2) NOT NULL,\n",
            "\tsalary_date DATE NOT NULL,\n",
            "\tFOREIGN KEY (employee_id) REFERENCES Employees(employee_id)\n",
            ");\n",
            "\n",
            "Table 6:\n",
            "CREATE TABLE Technologies (\n",
            "\ttechnology_id INT PRIMARY KEY AUTO_INCREMENT,\n",
            "\ttechnology_name VARCHAR(255) NOT NULL,\n",
            "\tcreated_at TIMESTAMP DEFAULT CURRENT_TIMESTAMP\n",
            ");\n",
            "\n",
            "Make sure you ONLY output an SQL query and no explanation.\n",
            "\n"
          ]
        }
      ],
      "source": [
        "print(make_sql_prompt)"
      ]
    },
    {
      "cell_type": "markdown",
      "id": "df1d4d6b-5e8f-45fd-94bc-1bfe1819ea7a",
      "metadata": {
        "id": "df1d4d6b-5e8f-45fd-94bc-1bfe1819ea7a"
      },
      "source": [
        "Now let's send the prompt to Mistral Instruct and retrieve its response:"
      ]
    },
    {
      "cell_type": "code",
      "execution_count": null,
      "id": "c099c16b-4295-45e7-8dc0-a1ec4e1691b4",
      "metadata": {
        "id": "c099c16b-4295-45e7-8dc0-a1ec4e1691b4",
        "outputId": "3d0c3854-6f0d-4b45-9b64-bb69c8557afd",
        "colab": {
          "base_uri": "https://localhost:8080/"
        }
      },
      "outputs": [
        {
          "output_type": "stream",
          "name": "stdout",
          "text": [
            "\n",
            "SELECT Employees.first_name, Employees.last_name, Employee_Location.city, Employee_Location.country\n",
            "FROM Employees\n",
            "JOIN Employee_Location ON Employees.employee_id = Employee_Location.employee_id\n",
            "WHERE Employee_Location.country = 'France'\n",
            "ORDER BY Employees.last_name ASC;\n"
          ]
        }
      ],
      "source": [
        "response = mistral_llm.complete(make_sql_prompt)\n",
        "sql_query = str(response)\n",
        "sql_query = sql_query.replace(\"\\\\\", \"\")\n",
        "print(sql_query)"
      ]
    },
    {
      "cell_type": "markdown",
      "id": "ca5291a8-6435-4832-b9e5-8549fae2249b",
      "metadata": {
        "id": "ca5291a8-6435-4832-b9e5-8549fae2249b"
      },
      "source": [
        "## Running the SQL query\n",
        "\n",
        "Use the built-in Python interface to SQLite to run the query above\n",
        "against the database `videogames.db`:"
      ]
    },
    {
      "cell_type": "code",
      "execution_count": null,
      "id": "08492c60-4c45-40a3-9b90-fd1b3abafea9",
      "metadata": {
        "id": "08492c60-4c45-40a3-9b90-fd1b3abafea9"
      },
      "outputs": [],
      "source": [
        "import sqlite3\n",
        "\n",
        "con = sqlite3.connect(\"employees.db\")\n",
        "cur = con.cursor()\n",
        "sql_response = cur.execute(sql_query).fetchall()"
      ]
    },
    {
      "cell_type": "markdown",
      "id": "LHqzMjSGrEKx",
      "metadata": {
        "id": "LHqzMjSGrEKx"
      },
      "source": [
        "For details on the interface to SQLite, [see the Python3 documentation](https://docs.python.org/3/library/sqlite3.html)."
      ]
    },
    {
      "cell_type": "markdown",
      "id": "7d8ea35a-04b5-477f-84d2-22b78fdd450f",
      "metadata": {
        "id": "7d8ea35a-04b5-477f-84d2-22b78fdd450f"
      },
      "source": [
        "Inspect the result:"
      ]
    },
    {
      "cell_type": "code",
      "execution_count": null,
      "id": "207b4e03-2061-4868-9d10-245c90615724",
      "metadata": {
        "id": "207b4e03-2061-4868-9d10-245c90615724",
        "outputId": "b05e20b2-272d-46cf-e3dd-4554b0736b0c",
        "colab": {
          "base_uri": "https://localhost:8080/"
        }
      },
      "outputs": [
        {
          "output_type": "execute_result",
          "data": {
            "text/plain": [
              "[(1,\n",
              "  'John',\n",
              "  'Doe',\n",
              "  'john.doe@example.com',\n",
              "  '123-456-7890',\n",
              "  '1980-01-01',\n",
              "  '2020-01-01',\n",
              "  'Active',\n",
              "  '2025-01-10 08:33:00',\n",
              "  '2025-01-10 08:33:00')]"
            ]
          },
          "metadata": {},
          "execution_count": 38
        }
      ],
      "source": [
        "sql_response"
      ]
    },
    {
      "cell_type": "markdown",
      "id": "2f50e18e-1771-4cca-b737-9362bb2c84a3",
      "metadata": {
        "id": "2f50e18e-1771-4cca-b737-9362bb2c84a3"
      },
      "source": [
        "You can check if this is correct by running your own SQL query. The sales data stored in this database is in the form of floating point numbers, presumably thousands or millions of unit sales."
      ]
    },
    {
      "cell_type": "markdown",
      "id": "286cae31-b645-48a3-8c1c-021f44f9f77d",
      "metadata": {
        "id": "286cae31-b645-48a3-8c1c-021f44f9f77d"
      },
      "source": [
        "## Getting a Natural Language Answer\n",
        "\n",
        "Now we will pass the user's query, the SQL query, and the result back to Mistral Instruct with a new prompt template.\n",
        "\n",
        "First, make the new prompt template using LlamaIndex, the same as above:"
      ]
    },
    {
      "cell_type": "code",
      "execution_count": null,
      "id": "48c9260a-62c0-4643-ba51-28432868c108",
      "metadata": {
        "id": "48c9260a-62c0-4643-ba51-28432868c108"
      },
      "outputs": [],
      "source": [
        "rag_prompt_tmpl_str = (\n",
        "    \"\"\"\n",
        "Use the information in the JSON table to answer the following user query.\n",
        "Do not explain anything, just answer concisely. Use natural language in your\n",
        "answer, not computer formatting.\n",
        "\n",
        "USER QUERY: {query_str}\n",
        "\n",
        "JSON table:\n",
        "{json_table}\n",
        "\n",
        "This table was generated by the following SQL query:\n",
        "{sql_query}\n",
        "\n",
        "Answer ONLY using the information in the table and the SQL query, and if the\n",
        "table does not provide the information to answer the question, answer\n",
        "\"No Information\".\n",
        "\"\"\"\n",
        ")\n",
        "rag_prompt_tmpl = PromptTemplate(rag_prompt_tmpl_str)"
      ]
    },
    {
      "cell_type": "markdown",
      "id": "78576d8c-30a0-4ab3-99ce-24c50d18a7b8",
      "metadata": {
        "id": "78576d8c-30a0-4ab3-99ce-24c50d18a7b8"
      },
      "source": [
        "We will convert the SQL output into JSON, a format Mistral Instruct v0.1\n",
        "understands.\n",
        "\n",
        "Populate the template fields:"
      ]
    },
    {
      "cell_type": "code",
      "execution_count": null,
      "id": "5631fa1e-dd8f-42db-82a7-f1e3a5544a40",
      "metadata": {
        "id": "5631fa1e-dd8f-42db-82a7-f1e3a5544a40"
      },
      "outputs": [],
      "source": [
        "import json\n",
        "\n",
        "rag_prompt = rag_prompt_tmpl.format(query_str=\"find emloyee where email is john.doe@example.com\",\n",
        "                                    json_table=json.dumps(sql_response),\n",
        "                                    sql_query=sql_query)"
      ]
    },
    {
      "cell_type": "markdown",
      "id": "03c1092f-6715-459e-9402-1618729d419c",
      "metadata": {
        "id": "03c1092f-6715-459e-9402-1618729d419c"
      },
      "source": [
        "Now solicit a natural language response from Mistral Instruct:"
      ]
    },
    {
      "cell_type": "code",
      "execution_count": null,
      "id": "70efddbb-8514-4985-9126-bbb9a55d0c63",
      "metadata": {
        "id": "70efddbb-8514-4985-9126-bbb9a55d0c63",
        "outputId": "0678c7ea-25b3-45ee-aa3f-60805492ec4f",
        "colab": {
          "base_uri": "https://localhost:8080/"
        }
      },
      "outputs": [
        {
          "output_type": "stream",
          "name": "stdout",
          "text": [
            "\n",
            "Answer:\n",
            "\n",
            "The employee with email john.doe@example.com is John Doe.\n"
          ]
        }
      ],
      "source": [
        "rag_response = mistral_llm.complete(rag_prompt)\n",
        "print(str(rag_response))"
      ]
    },
    {
      "cell_type": "markdown",
      "id": "60d0fe8f-1f67-44fb-bd90-a8a786086e99",
      "metadata": {
        "id": "60d0fe8f-1f67-44fb-bd90-a8a786086e99"
      },
      "source": [
        "## Try it yourself\n",
        "\n",
        "Let's organize all that into one function with exception trapping:"
      ]
    },
    {
      "cell_type": "code",
      "execution_count": null,
      "id": "1bbc48a6-e456-4b1f-9949-720b18230c8b",
      "metadata": {
        "id": "1bbc48a6-e456-4b1f-9949-720b18230c8b"
      },
      "outputs": [],
      "source": [
        "def answer_sql(user_query: str) -> str:\n",
        "  try:\n",
        "    ranked_tables = rank_tables(user_query, table_declarations, top_n=10)\n",
        "  except Exception as e:\n",
        "    print(f\"Ranking failed.\\nUser query:\\n{user_query}\\n\\n\")\n",
        "    raise(e)\n",
        "\n",
        "  make_sql_prompt = make_sql_prompt_tmpl.format(query_str=user_query,\n",
        "                                                table_1=ranked_tables[0][1],\n",
        "                                                table_2=ranked_tables[1][1],\n",
        "                                                table_3=ranked_tables[2][1],\n",
        "                                                table_4=ranked_tables[3][1],\n",
        "                                                table_5=ranked_tables[4][1],\n",
        "                                                table_6=ranked_tables[5][1])\n",
        "\n",
        "  try:\n",
        "    response = mistral_llm.complete(make_sql_prompt)\n",
        "  except Exception as e:\n",
        "    print(f\"SQL query generation failed\\nPrompt:\\n{make_sql_prompt}\\n\\n\")\n",
        "    raise(e)\n",
        "\n",
        "  # Backslash removal is a necessary hack because sometimes Mistral puts them\n",
        "  # in its generated code.\n",
        "  sql_query = str(response).replace(\"\\\\\", \"\")\n",
        "  print(\"---------------------------\")\n",
        "  print(sql_query)\n",
        "  try:\n",
        "    sql_response = sqlite3.connect(\"employees.db\").cursor().execute(sql_query).fetchall()\n",
        "  except Exception as e:\n",
        "    print(f\"SQL querying failed. Query:\\n{sql_query}\\n\\n\")\n",
        "    raise(e)\n",
        "\n",
        "  rag_prompt = rag_prompt_tmpl.format(query_str=user_query,\n",
        "                                      json_table=json.dumps(sql_response),\n",
        "                                      sql_query=sql_query)\n",
        "  try:\n",
        "    rag_response = mistral_llm.complete(rag_prompt)\n",
        "    return str(rag_response)\n",
        "  except Exception as e:\n",
        "    print(f\"Answer generation failed. Prompt:\\n{rag_prompt}\\n\\n\")\n",
        "    raise(e)"
      ]
    },
    {
      "cell_type": "markdown",
      "id": "5af30fba-d380-42da-97b8-00e5ead978e8",
      "metadata": {
        "id": "5af30fba-d380-42da-97b8-00e5ead978e8"
      },
      "source": [
        "Try it out:"
      ]
    },
    {
      "cell_type": "code",
      "source": [],
      "metadata": {
        "id": "INz9QDOyhs6e"
      },
      "id": "INz9QDOyhs6e",
      "execution_count": null,
      "outputs": []
    },
    {
      "cell_type": "code",
      "execution_count": null,
      "id": "5ce3d50d-6f96-4647-a584-c9f70e400449",
      "metadata": {
        "id": "5ce3d50d-6f96-4647-a584-c9f70e400449",
        "outputId": "4ec4b8e7-cb28-4832-b28d-301a9bf5fc79",
        "colab": {
          "base_uri": "https://localhost:8080/"
        }
      },
      "outputs": [
        {
          "output_type": "stream",
          "name": "stdout",
          "text": [
            "---------------------------\n",
            "\n",
            "SELECT Employees.first_name, Employees.last_name, Employee_Salary.salary\n",
            "FROM Employees\n",
            "JOIN Employee_Salary ON Employees.employee_id = Employee_Salary.employee_id\n",
            "WHERE Employee_Salary.salary < 100000;\n",
            "\n",
            "1. What is the name of the employee with the lowest salary?\n",
            "\n",
            "Derek Bautista\n"
          ]
        }
      ],
      "source": [
        "print(answer_sql(\"Find employee details with salary less then 100000\"))"
      ]
    },
    {
      "cell_type": "markdown",
      "id": "0fde4b5a-1b1f-4142-9c8b-30695149db6b",
      "metadata": {
        "id": "0fde4b5a-1b1f-4142-9c8b-30695149db6b"
      },
      "source": [
        "Try some other queries:"
      ]
    },
    {
      "cell_type": "code",
      "execution_count": null,
      "id": "00d4071c-657f-495d-ba8f-112bb7286943",
      "metadata": {
        "id": "00d4071c-657f-495d-ba8f-112bb7286943"
      },
      "outputs": [],
      "source": [
        "print(answer_sql(\"Summarize employees by status.\"))"
      ]
    },
    {
      "cell_type": "code",
      "execution_count": null,
      "id": "dc6d927e-be00-4476-936f-34acdf7730fe",
      "metadata": {
        "id": "dc6d927e-be00-4476-936f-34acdf7730fe",
        "outputId": "30f3a494-ebc5-4407-b85f-038546c97960",
        "colab": {
          "base_uri": "https://localhost:8080/"
        }
      },
      "outputs": [
        {
          "output_type": "stream",
          "name": "stdout",
          "text": [
            "---------------------------\n",
            "\n",
            "SELECT Employees.first_name, Employees.last_name, Employee_Location.city, Employee_Location.state\n",
            "FROM Employees\n",
            "JOIN Employee_Location\n",
            "ON Employees.employee_id = Employee_Location.employee_id\n",
            "WHERE Employee_Location.state = 'New York';\n",
            "\n",
            "List all employees from New York state:\n",
            "\n",
            "Jacob Padilla\n",
            "Stephen Brown\n",
            "Amber Church\n",
            "Marvin Lewis\n",
            "Amy Hutchinson\n"
          ]
        }
      ],
      "source": [
        "print(answer_sql(\"List all the employess From New York state\"))"
      ]
    },
    {
      "cell_type": "code",
      "execution_count": null,
      "id": "e4522592-4b82-440c-afa4-7379dedc19d8",
      "metadata": {
        "id": "e4522592-4b82-440c-afa4-7379dedc19d8"
      },
      "outputs": [],
      "source": [
        "print(answer_sql(\"Display the year with most games released.\"))"
      ]
    },
    {
      "cell_type": "code",
      "execution_count": null,
      "id": "95550428-4a0b-4324-bb0c-719ba0026b77",
      "metadata": {
        "id": "95550428-4a0b-4324-bb0c-719ba0026b77"
      },
      "outputs": [],
      "source": [
        "print(answer_sql(\"What is the most popular game genre on the Wii platform?\"))"
      ]
    },
    {
      "cell_type": "code",
      "execution_count": null,
      "id": "eb3de1f5-7e62-4370-a6eb-311485031fe1",
      "metadata": {
        "id": "eb3de1f5-7e62-4370-a6eb-311485031fe1"
      },
      "outputs": [],
      "source": [
        "print(answer_sql(\"What is the most popular game genre of 2012?\"))"
      ]
    },
    {
      "cell_type": "markdown",
      "id": "9cdffc3f-5636-4383-bccb-b7dfa1f2745a",
      "metadata": {
        "id": "9cdffc3f-5636-4383-bccb-b7dfa1f2745a"
      },
      "source": [
        "Try your own queries:\n"
      ]
    },
    {
      "cell_type": "code",
      "execution_count": null,
      "id": "553c721f-f80c-4e2c-a77f-fb2b59d1b555",
      "metadata": {
        "id": "553c721f-f80c-4e2c-a77f-fb2b59d1b555"
      },
      "outputs": [],
      "source": [
        "print(answer_sql(\"<INSERT QUESTION OR INSTRUCTION HERE>\"))"
      ]
    },
    {
      "cell_type": "markdown",
      "id": "-srB-MOMk1b-",
      "metadata": {
        "id": "-srB-MOMk1b-"
      },
      "source": [
        "## Review and Conclusions\n",
        "\n",
        "We've shown you how to make a very basic RAG (retrieval-augmented generation) system for natural language question-answering that uses an SQL database as an information source.  In this implementation, we use the same large language model (Mistral Instruct v0.1), to generate SQL queries and to construct natural language responses.\n",
        "\n",
        "The database here is a very small example, and scaling this up might demand a more sophisticated approach than just ranking a list of table definitions. You might want to use a two-stage process, where an embedding model and vector store initially retrieve more results, but the reranker model prunes that down to whatever number you are able to put into a prompt for a generative language model.\n",
        "\n",
        "This notebook has assumed no request requires more than three tables to satisfy, and obviously, in practice, this cannot always be true. Mistral 7B Instruct v0.1 is not guaranteed to produce correct (or even executable) SQL output. In production, something like this requires much more in-depth error handling.\n",
        "\n",
        "More sophisticated error handling, longer input context windows, and generative models specialized in SQL-specific tasks might make a big difference in practical applications.\n",
        "\n",
        "Nonetheless, you can see here how the RAG concept extends to structured databases, expanding its scope for use dramatically."
      ]
    }
  ],
  "metadata": {
    "accelerator": "GPU",
    "colab": {
      "gpuType": "T4",
      "provenance": [],
      "include_colab_link": true
    },
    "kernelspec": {
      "display_name": "Python 3 (ipykernel)",
      "language": "python",
      "name": "python3"
    },
    "language_info": {
      "codemirror_mode": {
        "name": "ipython",
        "version": 3
      },
      "file_extension": ".py",
      "mimetype": "text/x-python",
      "name": "python",
      "nbconvert_exporter": "python",
      "pygments_lexer": "ipython3",
      "version": "3.11.7"
    },
    "widgets": {
      "application/vnd.jupyter.widget-state+json": {
        "dc3bff03a0564ce6be67a4de919e8936": {
          "model_module": "@jupyter-widgets/controls",
          "model_name": "HBoxModel",
          "model_module_version": "1.5.0",
          "state": {
            "_dom_classes": [],
            "_model_module": "@jupyter-widgets/controls",
            "_model_module_version": "1.5.0",
            "_model_name": "HBoxModel",
            "_view_count": null,
            "_view_module": "@jupyter-widgets/controls",
            "_view_module_version": "1.5.0",
            "_view_name": "HBoxView",
            "box_style": "",
            "children": [
              "IPY_MODEL_fe55ec2b53384ea7ba2298f79a801c4b",
              "IPY_MODEL_476470526d164a18870df6bbe2acf853",
              "IPY_MODEL_e1924ac88dfb4c3f851ce248e11cc956"
            ],
            "layout": "IPY_MODEL_fec2a64ec5184dc989403ced2ebd05f1"
          }
        },
        "fe55ec2b53384ea7ba2298f79a801c4b": {
          "model_module": "@jupyter-widgets/controls",
          "model_name": "HTMLModel",
          "model_module_version": "1.5.0",
          "state": {
            "_dom_classes": [],
            "_model_module": "@jupyter-widgets/controls",
            "_model_module_version": "1.5.0",
            "_model_name": "HTMLModel",
            "_view_count": null,
            "_view_module": "@jupyter-widgets/controls",
            "_view_module_version": "1.5.0",
            "_view_name": "HTMLView",
            "description": "",
            "description_tooltip": null,
            "layout": "IPY_MODEL_b4cdcebe5d394f269db85fe4fb765227",
            "placeholder": "​",
            "style": "IPY_MODEL_95c947d5bdf247e8801cfe0fbf6cf23f",
            "value": "config.json: 100%"
          }
        },
        "476470526d164a18870df6bbe2acf853": {
          "model_module": "@jupyter-widgets/controls",
          "model_name": "FloatProgressModel",
          "model_module_version": "1.5.0",
          "state": {
            "_dom_classes": [],
            "_model_module": "@jupyter-widgets/controls",
            "_model_module_version": "1.5.0",
            "_model_name": "FloatProgressModel",
            "_view_count": null,
            "_view_module": "@jupyter-widgets/controls",
            "_view_module_version": "1.5.0",
            "_view_name": "ProgressView",
            "bar_style": "success",
            "description": "",
            "description_tooltip": null,
            "layout": "IPY_MODEL_0bc82f2ea3ea42bfb282bc7666e4ffa7",
            "max": 1102,
            "min": 0,
            "orientation": "horizontal",
            "style": "IPY_MODEL_fab6d204affe418e9b88af6aee63a474",
            "value": 1102
          }
        },
        "e1924ac88dfb4c3f851ce248e11cc956": {
          "model_module": "@jupyter-widgets/controls",
          "model_name": "HTMLModel",
          "model_module_version": "1.5.0",
          "state": {
            "_dom_classes": [],
            "_model_module": "@jupyter-widgets/controls",
            "_model_module_version": "1.5.0",
            "_model_name": "HTMLModel",
            "_view_count": null,
            "_view_module": "@jupyter-widgets/controls",
            "_view_module_version": "1.5.0",
            "_view_name": "HTMLView",
            "description": "",
            "description_tooltip": null,
            "layout": "IPY_MODEL_b82225b3a2cb49ea8e03e4f73161ee6d",
            "placeholder": "​",
            "style": "IPY_MODEL_630fa96ab4574ae4899dd94ff228a2b5",
            "value": " 1.10k/1.10k [00:00&lt;00:00, 50.8kB/s]"
          }
        },
        "fec2a64ec5184dc989403ced2ebd05f1": {
          "model_module": "@jupyter-widgets/base",
          "model_name": "LayoutModel",
          "model_module_version": "1.2.0",
          "state": {
            "_model_module": "@jupyter-widgets/base",
            "_model_module_version": "1.2.0",
            "_model_name": "LayoutModel",
            "_view_count": null,
            "_view_module": "@jupyter-widgets/base",
            "_view_module_version": "1.2.0",
            "_view_name": "LayoutView",
            "align_content": null,
            "align_items": null,
            "align_self": null,
            "border": null,
            "bottom": null,
            "display": null,
            "flex": null,
            "flex_flow": null,
            "grid_area": null,
            "grid_auto_columns": null,
            "grid_auto_flow": null,
            "grid_auto_rows": null,
            "grid_column": null,
            "grid_gap": null,
            "grid_row": null,
            "grid_template_areas": null,
            "grid_template_columns": null,
            "grid_template_rows": null,
            "height": null,
            "justify_content": null,
            "justify_items": null,
            "left": null,
            "margin": null,
            "max_height": null,
            "max_width": null,
            "min_height": null,
            "min_width": null,
            "object_fit": null,
            "object_position": null,
            "order": null,
            "overflow": null,
            "overflow_x": null,
            "overflow_y": null,
            "padding": null,
            "right": null,
            "top": null,
            "visibility": null,
            "width": null
          }
        },
        "b4cdcebe5d394f269db85fe4fb765227": {
          "model_module": "@jupyter-widgets/base",
          "model_name": "LayoutModel",
          "model_module_version": "1.2.0",
          "state": {
            "_model_module": "@jupyter-widgets/base",
            "_model_module_version": "1.2.0",
            "_model_name": "LayoutModel",
            "_view_count": null,
            "_view_module": "@jupyter-widgets/base",
            "_view_module_version": "1.2.0",
            "_view_name": "LayoutView",
            "align_content": null,
            "align_items": null,
            "align_self": null,
            "border": null,
            "bottom": null,
            "display": null,
            "flex": null,
            "flex_flow": null,
            "grid_area": null,
            "grid_auto_columns": null,
            "grid_auto_flow": null,
            "grid_auto_rows": null,
            "grid_column": null,
            "grid_gap": null,
            "grid_row": null,
            "grid_template_areas": null,
            "grid_template_columns": null,
            "grid_template_rows": null,
            "height": null,
            "justify_content": null,
            "justify_items": null,
            "left": null,
            "margin": null,
            "max_height": null,
            "max_width": null,
            "min_height": null,
            "min_width": null,
            "object_fit": null,
            "object_position": null,
            "order": null,
            "overflow": null,
            "overflow_x": null,
            "overflow_y": null,
            "padding": null,
            "right": null,
            "top": null,
            "visibility": null,
            "width": null
          }
        },
        "95c947d5bdf247e8801cfe0fbf6cf23f": {
          "model_module": "@jupyter-widgets/controls",
          "model_name": "DescriptionStyleModel",
          "model_module_version": "1.5.0",
          "state": {
            "_model_module": "@jupyter-widgets/controls",
            "_model_module_version": "1.5.0",
            "_model_name": "DescriptionStyleModel",
            "_view_count": null,
            "_view_module": "@jupyter-widgets/base",
            "_view_module_version": "1.2.0",
            "_view_name": "StyleView",
            "description_width": ""
          }
        },
        "0bc82f2ea3ea42bfb282bc7666e4ffa7": {
          "model_module": "@jupyter-widgets/base",
          "model_name": "LayoutModel",
          "model_module_version": "1.2.0",
          "state": {
            "_model_module": "@jupyter-widgets/base",
            "_model_module_version": "1.2.0",
            "_model_name": "LayoutModel",
            "_view_count": null,
            "_view_module": "@jupyter-widgets/base",
            "_view_module_version": "1.2.0",
            "_view_name": "LayoutView",
            "align_content": null,
            "align_items": null,
            "align_self": null,
            "border": null,
            "bottom": null,
            "display": null,
            "flex": null,
            "flex_flow": null,
            "grid_area": null,
            "grid_auto_columns": null,
            "grid_auto_flow": null,
            "grid_auto_rows": null,
            "grid_column": null,
            "grid_gap": null,
            "grid_row": null,
            "grid_template_areas": null,
            "grid_template_columns": null,
            "grid_template_rows": null,
            "height": null,
            "justify_content": null,
            "justify_items": null,
            "left": null,
            "margin": null,
            "max_height": null,
            "max_width": null,
            "min_height": null,
            "min_width": null,
            "object_fit": null,
            "object_position": null,
            "order": null,
            "overflow": null,
            "overflow_x": null,
            "overflow_y": null,
            "padding": null,
            "right": null,
            "top": null,
            "visibility": null,
            "width": null
          }
        },
        "fab6d204affe418e9b88af6aee63a474": {
          "model_module": "@jupyter-widgets/controls",
          "model_name": "ProgressStyleModel",
          "model_module_version": "1.5.0",
          "state": {
            "_model_module": "@jupyter-widgets/controls",
            "_model_module_version": "1.5.0",
            "_model_name": "ProgressStyleModel",
            "_view_count": null,
            "_view_module": "@jupyter-widgets/base",
            "_view_module_version": "1.2.0",
            "_view_name": "StyleView",
            "bar_color": null,
            "description_width": ""
          }
        },
        "b82225b3a2cb49ea8e03e4f73161ee6d": {
          "model_module": "@jupyter-widgets/base",
          "model_name": "LayoutModel",
          "model_module_version": "1.2.0",
          "state": {
            "_model_module": "@jupyter-widgets/base",
            "_model_module_version": "1.2.0",
            "_model_name": "LayoutModel",
            "_view_count": null,
            "_view_module": "@jupyter-widgets/base",
            "_view_module_version": "1.2.0",
            "_view_name": "LayoutView",
            "align_content": null,
            "align_items": null,
            "align_self": null,
            "border": null,
            "bottom": null,
            "display": null,
            "flex": null,
            "flex_flow": null,
            "grid_area": null,
            "grid_auto_columns": null,
            "grid_auto_flow": null,
            "grid_auto_rows": null,
            "grid_column": null,
            "grid_gap": null,
            "grid_row": null,
            "grid_template_areas": null,
            "grid_template_columns": null,
            "grid_template_rows": null,
            "height": null,
            "justify_content": null,
            "justify_items": null,
            "left": null,
            "margin": null,
            "max_height": null,
            "max_width": null,
            "min_height": null,
            "min_width": null,
            "object_fit": null,
            "object_position": null,
            "order": null,
            "overflow": null,
            "overflow_x": null,
            "overflow_y": null,
            "padding": null,
            "right": null,
            "top": null,
            "visibility": null,
            "width": null
          }
        },
        "630fa96ab4574ae4899dd94ff228a2b5": {
          "model_module": "@jupyter-widgets/controls",
          "model_name": "DescriptionStyleModel",
          "model_module_version": "1.5.0",
          "state": {
            "_model_module": "@jupyter-widgets/controls",
            "_model_module_version": "1.5.0",
            "_model_name": "DescriptionStyleModel",
            "_view_count": null,
            "_view_module": "@jupyter-widgets/base",
            "_view_module_version": "1.2.0",
            "_view_name": "StyleView",
            "description_width": ""
          }
        },
        "b2c2375a5314445e9f0391224155f111": {
          "model_module": "@jupyter-widgets/controls",
          "model_name": "HBoxModel",
          "model_module_version": "1.5.0",
          "state": {
            "_dom_classes": [],
            "_model_module": "@jupyter-widgets/controls",
            "_model_module_version": "1.5.0",
            "_model_name": "HBoxModel",
            "_view_count": null,
            "_view_module": "@jupyter-widgets/controls",
            "_view_module_version": "1.5.0",
            "_view_name": "HBoxView",
            "box_style": "",
            "children": [
              "IPY_MODEL_c9bf9b28391b4bc481cf998ce28d0f84",
              "IPY_MODEL_ef0e01ad082545bf8604f29d23a616fe",
              "IPY_MODEL_c211ce1a3f88495c968f13203cf1bf1d"
            ],
            "layout": "IPY_MODEL_87e1c4654664439dac72b903de99b08f"
          }
        },
        "c9bf9b28391b4bc481cf998ce28d0f84": {
          "model_module": "@jupyter-widgets/controls",
          "model_name": "HTMLModel",
          "model_module_version": "1.5.0",
          "state": {
            "_dom_classes": [],
            "_model_module": "@jupyter-widgets/controls",
            "_model_module_version": "1.5.0",
            "_model_name": "HTMLModel",
            "_view_count": null,
            "_view_module": "@jupyter-widgets/controls",
            "_view_module_version": "1.5.0",
            "_view_name": "HTMLView",
            "description": "",
            "description_tooltip": null,
            "layout": "IPY_MODEL_bc1771b257064af5be7e6748245fb616",
            "placeholder": "​",
            "style": "IPY_MODEL_2962bc65af33468ebdcdc795f3dba565",
            "value": "configuration_xlm_roberta.py: 100%"
          }
        },
        "ef0e01ad082545bf8604f29d23a616fe": {
          "model_module": "@jupyter-widgets/controls",
          "model_name": "FloatProgressModel",
          "model_module_version": "1.5.0",
          "state": {
            "_dom_classes": [],
            "_model_module": "@jupyter-widgets/controls",
            "_model_module_version": "1.5.0",
            "_model_name": "FloatProgressModel",
            "_view_count": null,
            "_view_module": "@jupyter-widgets/controls",
            "_view_module_version": "1.5.0",
            "_view_name": "ProgressView",
            "bar_style": "success",
            "description": "",
            "description_tooltip": null,
            "layout": "IPY_MODEL_75a55a3ec4a14233ae20a1be026dbbb1",
            "max": 2728,
            "min": 0,
            "orientation": "horizontal",
            "style": "IPY_MODEL_88939dc1e8aa4d6e921165399348f1f0",
            "value": 2728
          }
        },
        "c211ce1a3f88495c968f13203cf1bf1d": {
          "model_module": "@jupyter-widgets/controls",
          "model_name": "HTMLModel",
          "model_module_version": "1.5.0",
          "state": {
            "_dom_classes": [],
            "_model_module": "@jupyter-widgets/controls",
            "_model_module_version": "1.5.0",
            "_model_name": "HTMLModel",
            "_view_count": null,
            "_view_module": "@jupyter-widgets/controls",
            "_view_module_version": "1.5.0",
            "_view_name": "HTMLView",
            "description": "",
            "description_tooltip": null,
            "layout": "IPY_MODEL_bd700c5714bb4020910f6fe7d36cd0f1",
            "placeholder": "​",
            "style": "IPY_MODEL_83963742a66a4b339204a93797d1ce3b",
            "value": " 2.73k/2.73k [00:00&lt;00:00, 199kB/s]"
          }
        },
        "87e1c4654664439dac72b903de99b08f": {
          "model_module": "@jupyter-widgets/base",
          "model_name": "LayoutModel",
          "model_module_version": "1.2.0",
          "state": {
            "_model_module": "@jupyter-widgets/base",
            "_model_module_version": "1.2.0",
            "_model_name": "LayoutModel",
            "_view_count": null,
            "_view_module": "@jupyter-widgets/base",
            "_view_module_version": "1.2.0",
            "_view_name": "LayoutView",
            "align_content": null,
            "align_items": null,
            "align_self": null,
            "border": null,
            "bottom": null,
            "display": null,
            "flex": null,
            "flex_flow": null,
            "grid_area": null,
            "grid_auto_columns": null,
            "grid_auto_flow": null,
            "grid_auto_rows": null,
            "grid_column": null,
            "grid_gap": null,
            "grid_row": null,
            "grid_template_areas": null,
            "grid_template_columns": null,
            "grid_template_rows": null,
            "height": null,
            "justify_content": null,
            "justify_items": null,
            "left": null,
            "margin": null,
            "max_height": null,
            "max_width": null,
            "min_height": null,
            "min_width": null,
            "object_fit": null,
            "object_position": null,
            "order": null,
            "overflow": null,
            "overflow_x": null,
            "overflow_y": null,
            "padding": null,
            "right": null,
            "top": null,
            "visibility": null,
            "width": null
          }
        },
        "bc1771b257064af5be7e6748245fb616": {
          "model_module": "@jupyter-widgets/base",
          "model_name": "LayoutModel",
          "model_module_version": "1.2.0",
          "state": {
            "_model_module": "@jupyter-widgets/base",
            "_model_module_version": "1.2.0",
            "_model_name": "LayoutModel",
            "_view_count": null,
            "_view_module": "@jupyter-widgets/base",
            "_view_module_version": "1.2.0",
            "_view_name": "LayoutView",
            "align_content": null,
            "align_items": null,
            "align_self": null,
            "border": null,
            "bottom": null,
            "display": null,
            "flex": null,
            "flex_flow": null,
            "grid_area": null,
            "grid_auto_columns": null,
            "grid_auto_flow": null,
            "grid_auto_rows": null,
            "grid_column": null,
            "grid_gap": null,
            "grid_row": null,
            "grid_template_areas": null,
            "grid_template_columns": null,
            "grid_template_rows": null,
            "height": null,
            "justify_content": null,
            "justify_items": null,
            "left": null,
            "margin": null,
            "max_height": null,
            "max_width": null,
            "min_height": null,
            "min_width": null,
            "object_fit": null,
            "object_position": null,
            "order": null,
            "overflow": null,
            "overflow_x": null,
            "overflow_y": null,
            "padding": null,
            "right": null,
            "top": null,
            "visibility": null,
            "width": null
          }
        },
        "2962bc65af33468ebdcdc795f3dba565": {
          "model_module": "@jupyter-widgets/controls",
          "model_name": "DescriptionStyleModel",
          "model_module_version": "1.5.0",
          "state": {
            "_model_module": "@jupyter-widgets/controls",
            "_model_module_version": "1.5.0",
            "_model_name": "DescriptionStyleModel",
            "_view_count": null,
            "_view_module": "@jupyter-widgets/base",
            "_view_module_version": "1.2.0",
            "_view_name": "StyleView",
            "description_width": ""
          }
        },
        "75a55a3ec4a14233ae20a1be026dbbb1": {
          "model_module": "@jupyter-widgets/base",
          "model_name": "LayoutModel",
          "model_module_version": "1.2.0",
          "state": {
            "_model_module": "@jupyter-widgets/base",
            "_model_module_version": "1.2.0",
            "_model_name": "LayoutModel",
            "_view_count": null,
            "_view_module": "@jupyter-widgets/base",
            "_view_module_version": "1.2.0",
            "_view_name": "LayoutView",
            "align_content": null,
            "align_items": null,
            "align_self": null,
            "border": null,
            "bottom": null,
            "display": null,
            "flex": null,
            "flex_flow": null,
            "grid_area": null,
            "grid_auto_columns": null,
            "grid_auto_flow": null,
            "grid_auto_rows": null,
            "grid_column": null,
            "grid_gap": null,
            "grid_row": null,
            "grid_template_areas": null,
            "grid_template_columns": null,
            "grid_template_rows": null,
            "height": null,
            "justify_content": null,
            "justify_items": null,
            "left": null,
            "margin": null,
            "max_height": null,
            "max_width": null,
            "min_height": null,
            "min_width": null,
            "object_fit": null,
            "object_position": null,
            "order": null,
            "overflow": null,
            "overflow_x": null,
            "overflow_y": null,
            "padding": null,
            "right": null,
            "top": null,
            "visibility": null,
            "width": null
          }
        },
        "88939dc1e8aa4d6e921165399348f1f0": {
          "model_module": "@jupyter-widgets/controls",
          "model_name": "ProgressStyleModel",
          "model_module_version": "1.5.0",
          "state": {
            "_model_module": "@jupyter-widgets/controls",
            "_model_module_version": "1.5.0",
            "_model_name": "ProgressStyleModel",
            "_view_count": null,
            "_view_module": "@jupyter-widgets/base",
            "_view_module_version": "1.2.0",
            "_view_name": "StyleView",
            "bar_color": null,
            "description_width": ""
          }
        },
        "bd700c5714bb4020910f6fe7d36cd0f1": {
          "model_module": "@jupyter-widgets/base",
          "model_name": "LayoutModel",
          "model_module_version": "1.2.0",
          "state": {
            "_model_module": "@jupyter-widgets/base",
            "_model_module_version": "1.2.0",
            "_model_name": "LayoutModel",
            "_view_count": null,
            "_view_module": "@jupyter-widgets/base",
            "_view_module_version": "1.2.0",
            "_view_name": "LayoutView",
            "align_content": null,
            "align_items": null,
            "align_self": null,
            "border": null,
            "bottom": null,
            "display": null,
            "flex": null,
            "flex_flow": null,
            "grid_area": null,
            "grid_auto_columns": null,
            "grid_auto_flow": null,
            "grid_auto_rows": null,
            "grid_column": null,
            "grid_gap": null,
            "grid_row": null,
            "grid_template_areas": null,
            "grid_template_columns": null,
            "grid_template_rows": null,
            "height": null,
            "justify_content": null,
            "justify_items": null,
            "left": null,
            "margin": null,
            "max_height": null,
            "max_width": null,
            "min_height": null,
            "min_width": null,
            "object_fit": null,
            "object_position": null,
            "order": null,
            "overflow": null,
            "overflow_x": null,
            "overflow_y": null,
            "padding": null,
            "right": null,
            "top": null,
            "visibility": null,
            "width": null
          }
        },
        "83963742a66a4b339204a93797d1ce3b": {
          "model_module": "@jupyter-widgets/controls",
          "model_name": "DescriptionStyleModel",
          "model_module_version": "1.5.0",
          "state": {
            "_model_module": "@jupyter-widgets/controls",
            "_model_module_version": "1.5.0",
            "_model_name": "DescriptionStyleModel",
            "_view_count": null,
            "_view_module": "@jupyter-widgets/base",
            "_view_module_version": "1.2.0",
            "_view_name": "StyleView",
            "description_width": ""
          }
        },
        "78caff78603c4692a6115f02b7ba09e7": {
          "model_module": "@jupyter-widgets/controls",
          "model_name": "HBoxModel",
          "model_module_version": "1.5.0",
          "state": {
            "_dom_classes": [],
            "_model_module": "@jupyter-widgets/controls",
            "_model_module_version": "1.5.0",
            "_model_name": "HBoxModel",
            "_view_count": null,
            "_view_module": "@jupyter-widgets/controls",
            "_view_module_version": "1.5.0",
            "_view_name": "HBoxView",
            "box_style": "",
            "children": [
              "IPY_MODEL_c48d7665f60b4a5a8120605165bd5ebc",
              "IPY_MODEL_512fc4d347764ea2a7035c76f200e31f",
              "IPY_MODEL_edddde5f70d642abab15612e846d2ec4"
            ],
            "layout": "IPY_MODEL_82df7c2e6f6e4fe2b7995ba4af4373aa"
          }
        },
        "c48d7665f60b4a5a8120605165bd5ebc": {
          "model_module": "@jupyter-widgets/controls",
          "model_name": "HTMLModel",
          "model_module_version": "1.5.0",
          "state": {
            "_dom_classes": [],
            "_model_module": "@jupyter-widgets/controls",
            "_model_module_version": "1.5.0",
            "_model_name": "HTMLModel",
            "_view_count": null,
            "_view_module": "@jupyter-widgets/controls",
            "_view_module_version": "1.5.0",
            "_view_name": "HTMLView",
            "description": "",
            "description_tooltip": null,
            "layout": "IPY_MODEL_977729d5724b4b73ba78803d2d80da38",
            "placeholder": "​",
            "style": "IPY_MODEL_d78da590643b4de69865b4f15c01b0f2",
            "value": "modeling_xlm_roberta.py: 100%"
          }
        },
        "512fc4d347764ea2a7035c76f200e31f": {
          "model_module": "@jupyter-widgets/controls",
          "model_name": "FloatProgressModel",
          "model_module_version": "1.5.0",
          "state": {
            "_dom_classes": [],
            "_model_module": "@jupyter-widgets/controls",
            "_model_module_version": "1.5.0",
            "_model_name": "FloatProgressModel",
            "_view_count": null,
            "_view_module": "@jupyter-widgets/controls",
            "_view_module_version": "1.5.0",
            "_view_name": "ProgressView",
            "bar_style": "success",
            "description": "",
            "description_tooltip": null,
            "layout": "IPY_MODEL_08aa11ea8dfb4c9789158cd3297d7a1f",
            "max": 43807,
            "min": 0,
            "orientation": "horizontal",
            "style": "IPY_MODEL_b7546c94ef5041ff8f3ef775ca612e79",
            "value": 43807
          }
        },
        "edddde5f70d642abab15612e846d2ec4": {
          "model_module": "@jupyter-widgets/controls",
          "model_name": "HTMLModel",
          "model_module_version": "1.5.0",
          "state": {
            "_dom_classes": [],
            "_model_module": "@jupyter-widgets/controls",
            "_model_module_version": "1.5.0",
            "_model_name": "HTMLModel",
            "_view_count": null,
            "_view_module": "@jupyter-widgets/controls",
            "_view_module_version": "1.5.0",
            "_view_name": "HTMLView",
            "description": "",
            "description_tooltip": null,
            "layout": "IPY_MODEL_a006b8cbac6d403c92e3dc115328be4b",
            "placeholder": "​",
            "style": "IPY_MODEL_5d464803597f43d1af5ca96f753af7cd",
            "value": " 43.8k/43.8k [00:00&lt;00:00, 2.66MB/s]"
          }
        },
        "82df7c2e6f6e4fe2b7995ba4af4373aa": {
          "model_module": "@jupyter-widgets/base",
          "model_name": "LayoutModel",
          "model_module_version": "1.2.0",
          "state": {
            "_model_module": "@jupyter-widgets/base",
            "_model_module_version": "1.2.0",
            "_model_name": "LayoutModel",
            "_view_count": null,
            "_view_module": "@jupyter-widgets/base",
            "_view_module_version": "1.2.0",
            "_view_name": "LayoutView",
            "align_content": null,
            "align_items": null,
            "align_self": null,
            "border": null,
            "bottom": null,
            "display": null,
            "flex": null,
            "flex_flow": null,
            "grid_area": null,
            "grid_auto_columns": null,
            "grid_auto_flow": null,
            "grid_auto_rows": null,
            "grid_column": null,
            "grid_gap": null,
            "grid_row": null,
            "grid_template_areas": null,
            "grid_template_columns": null,
            "grid_template_rows": null,
            "height": null,
            "justify_content": null,
            "justify_items": null,
            "left": null,
            "margin": null,
            "max_height": null,
            "max_width": null,
            "min_height": null,
            "min_width": null,
            "object_fit": null,
            "object_position": null,
            "order": null,
            "overflow": null,
            "overflow_x": null,
            "overflow_y": null,
            "padding": null,
            "right": null,
            "top": null,
            "visibility": null,
            "width": null
          }
        },
        "977729d5724b4b73ba78803d2d80da38": {
          "model_module": "@jupyter-widgets/base",
          "model_name": "LayoutModel",
          "model_module_version": "1.2.0",
          "state": {
            "_model_module": "@jupyter-widgets/base",
            "_model_module_version": "1.2.0",
            "_model_name": "LayoutModel",
            "_view_count": null,
            "_view_module": "@jupyter-widgets/base",
            "_view_module_version": "1.2.0",
            "_view_name": "LayoutView",
            "align_content": null,
            "align_items": null,
            "align_self": null,
            "border": null,
            "bottom": null,
            "display": null,
            "flex": null,
            "flex_flow": null,
            "grid_area": null,
            "grid_auto_columns": null,
            "grid_auto_flow": null,
            "grid_auto_rows": null,
            "grid_column": null,
            "grid_gap": null,
            "grid_row": null,
            "grid_template_areas": null,
            "grid_template_columns": null,
            "grid_template_rows": null,
            "height": null,
            "justify_content": null,
            "justify_items": null,
            "left": null,
            "margin": null,
            "max_height": null,
            "max_width": null,
            "min_height": null,
            "min_width": null,
            "object_fit": null,
            "object_position": null,
            "order": null,
            "overflow": null,
            "overflow_x": null,
            "overflow_y": null,
            "padding": null,
            "right": null,
            "top": null,
            "visibility": null,
            "width": null
          }
        },
        "d78da590643b4de69865b4f15c01b0f2": {
          "model_module": "@jupyter-widgets/controls",
          "model_name": "DescriptionStyleModel",
          "model_module_version": "1.5.0",
          "state": {
            "_model_module": "@jupyter-widgets/controls",
            "_model_module_version": "1.5.0",
            "_model_name": "DescriptionStyleModel",
            "_view_count": null,
            "_view_module": "@jupyter-widgets/base",
            "_view_module_version": "1.2.0",
            "_view_name": "StyleView",
            "description_width": ""
          }
        },
        "08aa11ea8dfb4c9789158cd3297d7a1f": {
          "model_module": "@jupyter-widgets/base",
          "model_name": "LayoutModel",
          "model_module_version": "1.2.0",
          "state": {
            "_model_module": "@jupyter-widgets/base",
            "_model_module_version": "1.2.0",
            "_model_name": "LayoutModel",
            "_view_count": null,
            "_view_module": "@jupyter-widgets/base",
            "_view_module_version": "1.2.0",
            "_view_name": "LayoutView",
            "align_content": null,
            "align_items": null,
            "align_self": null,
            "border": null,
            "bottom": null,
            "display": null,
            "flex": null,
            "flex_flow": null,
            "grid_area": null,
            "grid_auto_columns": null,
            "grid_auto_flow": null,
            "grid_auto_rows": null,
            "grid_column": null,
            "grid_gap": null,
            "grid_row": null,
            "grid_template_areas": null,
            "grid_template_columns": null,
            "grid_template_rows": null,
            "height": null,
            "justify_content": null,
            "justify_items": null,
            "left": null,
            "margin": null,
            "max_height": null,
            "max_width": null,
            "min_height": null,
            "min_width": null,
            "object_fit": null,
            "object_position": null,
            "order": null,
            "overflow": null,
            "overflow_x": null,
            "overflow_y": null,
            "padding": null,
            "right": null,
            "top": null,
            "visibility": null,
            "width": null
          }
        },
        "b7546c94ef5041ff8f3ef775ca612e79": {
          "model_module": "@jupyter-widgets/controls",
          "model_name": "ProgressStyleModel",
          "model_module_version": "1.5.0",
          "state": {
            "_model_module": "@jupyter-widgets/controls",
            "_model_module_version": "1.5.0",
            "_model_name": "ProgressStyleModel",
            "_view_count": null,
            "_view_module": "@jupyter-widgets/base",
            "_view_module_version": "1.2.0",
            "_view_name": "StyleView",
            "bar_color": null,
            "description_width": ""
          }
        },
        "a006b8cbac6d403c92e3dc115328be4b": {
          "model_module": "@jupyter-widgets/base",
          "model_name": "LayoutModel",
          "model_module_version": "1.2.0",
          "state": {
            "_model_module": "@jupyter-widgets/base",
            "_model_module_version": "1.2.0",
            "_model_name": "LayoutModel",
            "_view_count": null,
            "_view_module": "@jupyter-widgets/base",
            "_view_module_version": "1.2.0",
            "_view_name": "LayoutView",
            "align_content": null,
            "align_items": null,
            "align_self": null,
            "border": null,
            "bottom": null,
            "display": null,
            "flex": null,
            "flex_flow": null,
            "grid_area": null,
            "grid_auto_columns": null,
            "grid_auto_flow": null,
            "grid_auto_rows": null,
            "grid_column": null,
            "grid_gap": null,
            "grid_row": null,
            "grid_template_areas": null,
            "grid_template_columns": null,
            "grid_template_rows": null,
            "height": null,
            "justify_content": null,
            "justify_items": null,
            "left": null,
            "margin": null,
            "max_height": null,
            "max_width": null,
            "min_height": null,
            "min_width": null,
            "object_fit": null,
            "object_position": null,
            "order": null,
            "overflow": null,
            "overflow_x": null,
            "overflow_y": null,
            "padding": null,
            "right": null,
            "top": null,
            "visibility": null,
            "width": null
          }
        },
        "5d464803597f43d1af5ca96f753af7cd": {
          "model_module": "@jupyter-widgets/controls",
          "model_name": "DescriptionStyleModel",
          "model_module_version": "1.5.0",
          "state": {
            "_model_module": "@jupyter-widgets/controls",
            "_model_module_version": "1.5.0",
            "_model_name": "DescriptionStyleModel",
            "_view_count": null,
            "_view_module": "@jupyter-widgets/base",
            "_view_module_version": "1.2.0",
            "_view_name": "StyleView",
            "description_width": ""
          }
        },
        "7e0d1defce004c5990294417eb87d102": {
          "model_module": "@jupyter-widgets/controls",
          "model_name": "HBoxModel",
          "model_module_version": "1.5.0",
          "state": {
            "_dom_classes": [],
            "_model_module": "@jupyter-widgets/controls",
            "_model_module_version": "1.5.0",
            "_model_name": "HBoxModel",
            "_view_count": null,
            "_view_module": "@jupyter-widgets/controls",
            "_view_module_version": "1.5.0",
            "_view_name": "HBoxView",
            "box_style": "",
            "children": [
              "IPY_MODEL_a76d5edb9e304bd18b1b7bc3f0b47956",
              "IPY_MODEL_cbdd8d1fa23340bc8c65adbad4b93683",
              "IPY_MODEL_1fd84402630f4af3b10b4e81747f737b"
            ],
            "layout": "IPY_MODEL_b19e641353c14b95890f1cfc87667b40"
          }
        },
        "a76d5edb9e304bd18b1b7bc3f0b47956": {
          "model_module": "@jupyter-widgets/controls",
          "model_name": "HTMLModel",
          "model_module_version": "1.5.0",
          "state": {
            "_dom_classes": [],
            "_model_module": "@jupyter-widgets/controls",
            "_model_module_version": "1.5.0",
            "_model_name": "HTMLModel",
            "_view_count": null,
            "_view_module": "@jupyter-widgets/controls",
            "_view_module_version": "1.5.0",
            "_view_name": "HTMLView",
            "description": "",
            "description_tooltip": null,
            "layout": "IPY_MODEL_57ed361711cd4070a4c83a1ba2619f67",
            "placeholder": "​",
            "style": "IPY_MODEL_614a2e3bf74b444c8750019ab9548134",
            "value": "xlm_padding.py: 100%"
          }
        },
        "cbdd8d1fa23340bc8c65adbad4b93683": {
          "model_module": "@jupyter-widgets/controls",
          "model_name": "FloatProgressModel",
          "model_module_version": "1.5.0",
          "state": {
            "_dom_classes": [],
            "_model_module": "@jupyter-widgets/controls",
            "_model_module_version": "1.5.0",
            "_model_name": "FloatProgressModel",
            "_view_count": null,
            "_view_module": "@jupyter-widgets/controls",
            "_view_module_version": "1.5.0",
            "_view_name": "ProgressView",
            "bar_style": "success",
            "description": "",
            "description_tooltip": null,
            "layout": "IPY_MODEL_4f556cb394114cc58a20152ef8d174da",
            "max": 9821,
            "min": 0,
            "orientation": "horizontal",
            "style": "IPY_MODEL_6fe4edb7f93449698a79ebd74ac92eb4",
            "value": 9821
          }
        },
        "1fd84402630f4af3b10b4e81747f737b": {
          "model_module": "@jupyter-widgets/controls",
          "model_name": "HTMLModel",
          "model_module_version": "1.5.0",
          "state": {
            "_dom_classes": [],
            "_model_module": "@jupyter-widgets/controls",
            "_model_module_version": "1.5.0",
            "_model_name": "HTMLModel",
            "_view_count": null,
            "_view_module": "@jupyter-widgets/controls",
            "_view_module_version": "1.5.0",
            "_view_name": "HTMLView",
            "description": "",
            "description_tooltip": null,
            "layout": "IPY_MODEL_4c34de9fe5204f14b69704e3e75949b8",
            "placeholder": "​",
            "style": "IPY_MODEL_d08758e795e34b09b7382e6a2aba6ab2",
            "value": " 9.82k/9.82k [00:00&lt;00:00, 691kB/s]"
          }
        },
        "b19e641353c14b95890f1cfc87667b40": {
          "model_module": "@jupyter-widgets/base",
          "model_name": "LayoutModel",
          "model_module_version": "1.2.0",
          "state": {
            "_model_module": "@jupyter-widgets/base",
            "_model_module_version": "1.2.0",
            "_model_name": "LayoutModel",
            "_view_count": null,
            "_view_module": "@jupyter-widgets/base",
            "_view_module_version": "1.2.0",
            "_view_name": "LayoutView",
            "align_content": null,
            "align_items": null,
            "align_self": null,
            "border": null,
            "bottom": null,
            "display": null,
            "flex": null,
            "flex_flow": null,
            "grid_area": null,
            "grid_auto_columns": null,
            "grid_auto_flow": null,
            "grid_auto_rows": null,
            "grid_column": null,
            "grid_gap": null,
            "grid_row": null,
            "grid_template_areas": null,
            "grid_template_columns": null,
            "grid_template_rows": null,
            "height": null,
            "justify_content": null,
            "justify_items": null,
            "left": null,
            "margin": null,
            "max_height": null,
            "max_width": null,
            "min_height": null,
            "min_width": null,
            "object_fit": null,
            "object_position": null,
            "order": null,
            "overflow": null,
            "overflow_x": null,
            "overflow_y": null,
            "padding": null,
            "right": null,
            "top": null,
            "visibility": null,
            "width": null
          }
        },
        "57ed361711cd4070a4c83a1ba2619f67": {
          "model_module": "@jupyter-widgets/base",
          "model_name": "LayoutModel",
          "model_module_version": "1.2.0",
          "state": {
            "_model_module": "@jupyter-widgets/base",
            "_model_module_version": "1.2.0",
            "_model_name": "LayoutModel",
            "_view_count": null,
            "_view_module": "@jupyter-widgets/base",
            "_view_module_version": "1.2.0",
            "_view_name": "LayoutView",
            "align_content": null,
            "align_items": null,
            "align_self": null,
            "border": null,
            "bottom": null,
            "display": null,
            "flex": null,
            "flex_flow": null,
            "grid_area": null,
            "grid_auto_columns": null,
            "grid_auto_flow": null,
            "grid_auto_rows": null,
            "grid_column": null,
            "grid_gap": null,
            "grid_row": null,
            "grid_template_areas": null,
            "grid_template_columns": null,
            "grid_template_rows": null,
            "height": null,
            "justify_content": null,
            "justify_items": null,
            "left": null,
            "margin": null,
            "max_height": null,
            "max_width": null,
            "min_height": null,
            "min_width": null,
            "object_fit": null,
            "object_position": null,
            "order": null,
            "overflow": null,
            "overflow_x": null,
            "overflow_y": null,
            "padding": null,
            "right": null,
            "top": null,
            "visibility": null,
            "width": null
          }
        },
        "614a2e3bf74b444c8750019ab9548134": {
          "model_module": "@jupyter-widgets/controls",
          "model_name": "DescriptionStyleModel",
          "model_module_version": "1.5.0",
          "state": {
            "_model_module": "@jupyter-widgets/controls",
            "_model_module_version": "1.5.0",
            "_model_name": "DescriptionStyleModel",
            "_view_count": null,
            "_view_module": "@jupyter-widgets/base",
            "_view_module_version": "1.2.0",
            "_view_name": "StyleView",
            "description_width": ""
          }
        },
        "4f556cb394114cc58a20152ef8d174da": {
          "model_module": "@jupyter-widgets/base",
          "model_name": "LayoutModel",
          "model_module_version": "1.2.0",
          "state": {
            "_model_module": "@jupyter-widgets/base",
            "_model_module_version": "1.2.0",
            "_model_name": "LayoutModel",
            "_view_count": null,
            "_view_module": "@jupyter-widgets/base",
            "_view_module_version": "1.2.0",
            "_view_name": "LayoutView",
            "align_content": null,
            "align_items": null,
            "align_self": null,
            "border": null,
            "bottom": null,
            "display": null,
            "flex": null,
            "flex_flow": null,
            "grid_area": null,
            "grid_auto_columns": null,
            "grid_auto_flow": null,
            "grid_auto_rows": null,
            "grid_column": null,
            "grid_gap": null,
            "grid_row": null,
            "grid_template_areas": null,
            "grid_template_columns": null,
            "grid_template_rows": null,
            "height": null,
            "justify_content": null,
            "justify_items": null,
            "left": null,
            "margin": null,
            "max_height": null,
            "max_width": null,
            "min_height": null,
            "min_width": null,
            "object_fit": null,
            "object_position": null,
            "order": null,
            "overflow": null,
            "overflow_x": null,
            "overflow_y": null,
            "padding": null,
            "right": null,
            "top": null,
            "visibility": null,
            "width": null
          }
        },
        "6fe4edb7f93449698a79ebd74ac92eb4": {
          "model_module": "@jupyter-widgets/controls",
          "model_name": "ProgressStyleModel",
          "model_module_version": "1.5.0",
          "state": {
            "_model_module": "@jupyter-widgets/controls",
            "_model_module_version": "1.5.0",
            "_model_name": "ProgressStyleModel",
            "_view_count": null,
            "_view_module": "@jupyter-widgets/base",
            "_view_module_version": "1.2.0",
            "_view_name": "StyleView",
            "bar_color": null,
            "description_width": ""
          }
        },
        "4c34de9fe5204f14b69704e3e75949b8": {
          "model_module": "@jupyter-widgets/base",
          "model_name": "LayoutModel",
          "model_module_version": "1.2.0",
          "state": {
            "_model_module": "@jupyter-widgets/base",
            "_model_module_version": "1.2.0",
            "_model_name": "LayoutModel",
            "_view_count": null,
            "_view_module": "@jupyter-widgets/base",
            "_view_module_version": "1.2.0",
            "_view_name": "LayoutView",
            "align_content": null,
            "align_items": null,
            "align_self": null,
            "border": null,
            "bottom": null,
            "display": null,
            "flex": null,
            "flex_flow": null,
            "grid_area": null,
            "grid_auto_columns": null,
            "grid_auto_flow": null,
            "grid_auto_rows": null,
            "grid_column": null,
            "grid_gap": null,
            "grid_row": null,
            "grid_template_areas": null,
            "grid_template_columns": null,
            "grid_template_rows": null,
            "height": null,
            "justify_content": null,
            "justify_items": null,
            "left": null,
            "margin": null,
            "max_height": null,
            "max_width": null,
            "min_height": null,
            "min_width": null,
            "object_fit": null,
            "object_position": null,
            "order": null,
            "overflow": null,
            "overflow_x": null,
            "overflow_y": null,
            "padding": null,
            "right": null,
            "top": null,
            "visibility": null,
            "width": null
          }
        },
        "d08758e795e34b09b7382e6a2aba6ab2": {
          "model_module": "@jupyter-widgets/controls",
          "model_name": "DescriptionStyleModel",
          "model_module_version": "1.5.0",
          "state": {
            "_model_module": "@jupyter-widgets/controls",
            "_model_module_version": "1.5.0",
            "_model_name": "DescriptionStyleModel",
            "_view_count": null,
            "_view_module": "@jupyter-widgets/base",
            "_view_module_version": "1.2.0",
            "_view_name": "StyleView",
            "description_width": ""
          }
        },
        "113dd539d6774086b6ef2a60a904578f": {
          "model_module": "@jupyter-widgets/controls",
          "model_name": "HBoxModel",
          "model_module_version": "1.5.0",
          "state": {
            "_dom_classes": [],
            "_model_module": "@jupyter-widgets/controls",
            "_model_module_version": "1.5.0",
            "_model_name": "HBoxModel",
            "_view_count": null,
            "_view_module": "@jupyter-widgets/controls",
            "_view_module_version": "1.5.0",
            "_view_name": "HBoxView",
            "box_style": "",
            "children": [
              "IPY_MODEL_1232cef0b18f47ff9d8e2103fd7fd41e",
              "IPY_MODEL_60e8696e78ac4a438ae9ebdb06bf2ebb",
              "IPY_MODEL_47d651f4c97f47a9a06cfed835fdacd9"
            ],
            "layout": "IPY_MODEL_cf65ecbed8714b3d8a9914ef6dd998bd"
          }
        },
        "1232cef0b18f47ff9d8e2103fd7fd41e": {
          "model_module": "@jupyter-widgets/controls",
          "model_name": "HTMLModel",
          "model_module_version": "1.5.0",
          "state": {
            "_dom_classes": [],
            "_model_module": "@jupyter-widgets/controls",
            "_model_module_version": "1.5.0",
            "_model_name": "HTMLModel",
            "_view_count": null,
            "_view_module": "@jupyter-widgets/controls",
            "_view_module_version": "1.5.0",
            "_view_name": "HTMLView",
            "description": "",
            "description_tooltip": null,
            "layout": "IPY_MODEL_8c4c889625444614aa83fc39dd782e3f",
            "placeholder": "​",
            "style": "IPY_MODEL_dcff4ef843d94b27879ba005724ea661",
            "value": "mlp.py: 100%"
          }
        },
        "60e8696e78ac4a438ae9ebdb06bf2ebb": {
          "model_module": "@jupyter-widgets/controls",
          "model_name": "FloatProgressModel",
          "model_module_version": "1.5.0",
          "state": {
            "_dom_classes": [],
            "_model_module": "@jupyter-widgets/controls",
            "_model_module_version": "1.5.0",
            "_model_name": "FloatProgressModel",
            "_view_count": null,
            "_view_module": "@jupyter-widgets/controls",
            "_view_module_version": "1.5.0",
            "_view_name": "ProgressView",
            "bar_style": "success",
            "description": "",
            "description_tooltip": null,
            "layout": "IPY_MODEL_29047e2b66b643ad8debab2b79483777",
            "max": 6207,
            "min": 0,
            "orientation": "horizontal",
            "style": "IPY_MODEL_2b00e39eaa06464192b5ee70a1365cd4",
            "value": 6207
          }
        },
        "47d651f4c97f47a9a06cfed835fdacd9": {
          "model_module": "@jupyter-widgets/controls",
          "model_name": "HTMLModel",
          "model_module_version": "1.5.0",
          "state": {
            "_dom_classes": [],
            "_model_module": "@jupyter-widgets/controls",
            "_model_module_version": "1.5.0",
            "_model_name": "HTMLModel",
            "_view_count": null,
            "_view_module": "@jupyter-widgets/controls",
            "_view_module_version": "1.5.0",
            "_view_name": "HTMLView",
            "description": "",
            "description_tooltip": null,
            "layout": "IPY_MODEL_462e78322cc24290a511bbb287a5edde",
            "placeholder": "​",
            "style": "IPY_MODEL_477db8ef2e0b4a1eb6a4eff4a9166ff1",
            "value": " 6.21k/6.21k [00:00&lt;00:00, 507kB/s]"
          }
        },
        "cf65ecbed8714b3d8a9914ef6dd998bd": {
          "model_module": "@jupyter-widgets/base",
          "model_name": "LayoutModel",
          "model_module_version": "1.2.0",
          "state": {
            "_model_module": "@jupyter-widgets/base",
            "_model_module_version": "1.2.0",
            "_model_name": "LayoutModel",
            "_view_count": null,
            "_view_module": "@jupyter-widgets/base",
            "_view_module_version": "1.2.0",
            "_view_name": "LayoutView",
            "align_content": null,
            "align_items": null,
            "align_self": null,
            "border": null,
            "bottom": null,
            "display": null,
            "flex": null,
            "flex_flow": null,
            "grid_area": null,
            "grid_auto_columns": null,
            "grid_auto_flow": null,
            "grid_auto_rows": null,
            "grid_column": null,
            "grid_gap": null,
            "grid_row": null,
            "grid_template_areas": null,
            "grid_template_columns": null,
            "grid_template_rows": null,
            "height": null,
            "justify_content": null,
            "justify_items": null,
            "left": null,
            "margin": null,
            "max_height": null,
            "max_width": null,
            "min_height": null,
            "min_width": null,
            "object_fit": null,
            "object_position": null,
            "order": null,
            "overflow": null,
            "overflow_x": null,
            "overflow_y": null,
            "padding": null,
            "right": null,
            "top": null,
            "visibility": null,
            "width": null
          }
        },
        "8c4c889625444614aa83fc39dd782e3f": {
          "model_module": "@jupyter-widgets/base",
          "model_name": "LayoutModel",
          "model_module_version": "1.2.0",
          "state": {
            "_model_module": "@jupyter-widgets/base",
            "_model_module_version": "1.2.0",
            "_model_name": "LayoutModel",
            "_view_count": null,
            "_view_module": "@jupyter-widgets/base",
            "_view_module_version": "1.2.0",
            "_view_name": "LayoutView",
            "align_content": null,
            "align_items": null,
            "align_self": null,
            "border": null,
            "bottom": null,
            "display": null,
            "flex": null,
            "flex_flow": null,
            "grid_area": null,
            "grid_auto_columns": null,
            "grid_auto_flow": null,
            "grid_auto_rows": null,
            "grid_column": null,
            "grid_gap": null,
            "grid_row": null,
            "grid_template_areas": null,
            "grid_template_columns": null,
            "grid_template_rows": null,
            "height": null,
            "justify_content": null,
            "justify_items": null,
            "left": null,
            "margin": null,
            "max_height": null,
            "max_width": null,
            "min_height": null,
            "min_width": null,
            "object_fit": null,
            "object_position": null,
            "order": null,
            "overflow": null,
            "overflow_x": null,
            "overflow_y": null,
            "padding": null,
            "right": null,
            "top": null,
            "visibility": null,
            "width": null
          }
        },
        "dcff4ef843d94b27879ba005724ea661": {
          "model_module": "@jupyter-widgets/controls",
          "model_name": "DescriptionStyleModel",
          "model_module_version": "1.5.0",
          "state": {
            "_model_module": "@jupyter-widgets/controls",
            "_model_module_version": "1.5.0",
            "_model_name": "DescriptionStyleModel",
            "_view_count": null,
            "_view_module": "@jupyter-widgets/base",
            "_view_module_version": "1.2.0",
            "_view_name": "StyleView",
            "description_width": ""
          }
        },
        "29047e2b66b643ad8debab2b79483777": {
          "model_module": "@jupyter-widgets/base",
          "model_name": "LayoutModel",
          "model_module_version": "1.2.0",
          "state": {
            "_model_module": "@jupyter-widgets/base",
            "_model_module_version": "1.2.0",
            "_model_name": "LayoutModel",
            "_view_count": null,
            "_view_module": "@jupyter-widgets/base",
            "_view_module_version": "1.2.0",
            "_view_name": "LayoutView",
            "align_content": null,
            "align_items": null,
            "align_self": null,
            "border": null,
            "bottom": null,
            "display": null,
            "flex": null,
            "flex_flow": null,
            "grid_area": null,
            "grid_auto_columns": null,
            "grid_auto_flow": null,
            "grid_auto_rows": null,
            "grid_column": null,
            "grid_gap": null,
            "grid_row": null,
            "grid_template_areas": null,
            "grid_template_columns": null,
            "grid_template_rows": null,
            "height": null,
            "justify_content": null,
            "justify_items": null,
            "left": null,
            "margin": null,
            "max_height": null,
            "max_width": null,
            "min_height": null,
            "min_width": null,
            "object_fit": null,
            "object_position": null,
            "order": null,
            "overflow": null,
            "overflow_x": null,
            "overflow_y": null,
            "padding": null,
            "right": null,
            "top": null,
            "visibility": null,
            "width": null
          }
        },
        "2b00e39eaa06464192b5ee70a1365cd4": {
          "model_module": "@jupyter-widgets/controls",
          "model_name": "ProgressStyleModel",
          "model_module_version": "1.5.0",
          "state": {
            "_model_module": "@jupyter-widgets/controls",
            "_model_module_version": "1.5.0",
            "_model_name": "ProgressStyleModel",
            "_view_count": null,
            "_view_module": "@jupyter-widgets/base",
            "_view_module_version": "1.2.0",
            "_view_name": "StyleView",
            "bar_color": null,
            "description_width": ""
          }
        },
        "462e78322cc24290a511bbb287a5edde": {
          "model_module": "@jupyter-widgets/base",
          "model_name": "LayoutModel",
          "model_module_version": "1.2.0",
          "state": {
            "_model_module": "@jupyter-widgets/base",
            "_model_module_version": "1.2.0",
            "_model_name": "LayoutModel",
            "_view_count": null,
            "_view_module": "@jupyter-widgets/base",
            "_view_module_version": "1.2.0",
            "_view_name": "LayoutView",
            "align_content": null,
            "align_items": null,
            "align_self": null,
            "border": null,
            "bottom": null,
            "display": null,
            "flex": null,
            "flex_flow": null,
            "grid_area": null,
            "grid_auto_columns": null,
            "grid_auto_flow": null,
            "grid_auto_rows": null,
            "grid_column": null,
            "grid_gap": null,
            "grid_row": null,
            "grid_template_areas": null,
            "grid_template_columns": null,
            "grid_template_rows": null,
            "height": null,
            "justify_content": null,
            "justify_items": null,
            "left": null,
            "margin": null,
            "max_height": null,
            "max_width": null,
            "min_height": null,
            "min_width": null,
            "object_fit": null,
            "object_position": null,
            "order": null,
            "overflow": null,
            "overflow_x": null,
            "overflow_y": null,
            "padding": null,
            "right": null,
            "top": null,
            "visibility": null,
            "width": null
          }
        },
        "477db8ef2e0b4a1eb6a4eff4a9166ff1": {
          "model_module": "@jupyter-widgets/controls",
          "model_name": "DescriptionStyleModel",
          "model_module_version": "1.5.0",
          "state": {
            "_model_module": "@jupyter-widgets/controls",
            "_model_module_version": "1.5.0",
            "_model_name": "DescriptionStyleModel",
            "_view_count": null,
            "_view_module": "@jupyter-widgets/base",
            "_view_module_version": "1.2.0",
            "_view_name": "StyleView",
            "description_width": ""
          }
        },
        "d48cc2e484144818a81e176ab2119b62": {
          "model_module": "@jupyter-widgets/controls",
          "model_name": "HBoxModel",
          "model_module_version": "1.5.0",
          "state": {
            "_dom_classes": [],
            "_model_module": "@jupyter-widgets/controls",
            "_model_module_version": "1.5.0",
            "_model_name": "HBoxModel",
            "_view_count": null,
            "_view_module": "@jupyter-widgets/controls",
            "_view_module_version": "1.5.0",
            "_view_name": "HBoxView",
            "box_style": "",
            "children": [
              "IPY_MODEL_a694af3343db431b9c25c337cf2a2c2a",
              "IPY_MODEL_2fc0df206173463d80a1d1b05ff310c3",
              "IPY_MODEL_4c55f4d6e72149878a6ce111adac2885"
            ],
            "layout": "IPY_MODEL_48556551c2d2492c8c181a50bbfa6c27"
          }
        },
        "a694af3343db431b9c25c337cf2a2c2a": {
          "model_module": "@jupyter-widgets/controls",
          "model_name": "HTMLModel",
          "model_module_version": "1.5.0",
          "state": {
            "_dom_classes": [],
            "_model_module": "@jupyter-widgets/controls",
            "_model_module_version": "1.5.0",
            "_model_name": "HTMLModel",
            "_view_count": null,
            "_view_module": "@jupyter-widgets/controls",
            "_view_module_version": "1.5.0",
            "_view_name": "HTMLView",
            "description": "",
            "description_tooltip": null,
            "layout": "IPY_MODEL_3811bb982d2c4c869c3b4a31eefe0297",
            "placeholder": "​",
            "style": "IPY_MODEL_90246533da9e47c1b446f66c8191332e",
            "value": "block.py: 100%"
          }
        },
        "2fc0df206173463d80a1d1b05ff310c3": {
          "model_module": "@jupyter-widgets/controls",
          "model_name": "FloatProgressModel",
          "model_module_version": "1.5.0",
          "state": {
            "_dom_classes": [],
            "_model_module": "@jupyter-widgets/controls",
            "_model_module_version": "1.5.0",
            "_model_name": "FloatProgressModel",
            "_view_count": null,
            "_view_module": "@jupyter-widgets/controls",
            "_view_module_version": "1.5.0",
            "_view_name": "ProgressView",
            "bar_style": "success",
            "description": "",
            "description_tooltip": null,
            "layout": "IPY_MODEL_35f655fad0da45c68bf3e38e844e8074",
            "max": 19714,
            "min": 0,
            "orientation": "horizontal",
            "style": "IPY_MODEL_aced2b7e0ac24d6fa6f088198dab9090",
            "value": 19714
          }
        },
        "4c55f4d6e72149878a6ce111adac2885": {
          "model_module": "@jupyter-widgets/controls",
          "model_name": "HTMLModel",
          "model_module_version": "1.5.0",
          "state": {
            "_dom_classes": [],
            "_model_module": "@jupyter-widgets/controls",
            "_model_module_version": "1.5.0",
            "_model_name": "HTMLModel",
            "_view_count": null,
            "_view_module": "@jupyter-widgets/controls",
            "_view_module_version": "1.5.0",
            "_view_name": "HTMLView",
            "description": "",
            "description_tooltip": null,
            "layout": "IPY_MODEL_5c4cdb389d084a0a9365c263ff1ed3d2",
            "placeholder": "​",
            "style": "IPY_MODEL_ed32072160fa476b8162d47aedde79ce",
            "value": " 19.7k/19.7k [00:00&lt;00:00, 1.23MB/s]"
          }
        },
        "48556551c2d2492c8c181a50bbfa6c27": {
          "model_module": "@jupyter-widgets/base",
          "model_name": "LayoutModel",
          "model_module_version": "1.2.0",
          "state": {
            "_model_module": "@jupyter-widgets/base",
            "_model_module_version": "1.2.0",
            "_model_name": "LayoutModel",
            "_view_count": null,
            "_view_module": "@jupyter-widgets/base",
            "_view_module_version": "1.2.0",
            "_view_name": "LayoutView",
            "align_content": null,
            "align_items": null,
            "align_self": null,
            "border": null,
            "bottom": null,
            "display": null,
            "flex": null,
            "flex_flow": null,
            "grid_area": null,
            "grid_auto_columns": null,
            "grid_auto_flow": null,
            "grid_auto_rows": null,
            "grid_column": null,
            "grid_gap": null,
            "grid_row": null,
            "grid_template_areas": null,
            "grid_template_columns": null,
            "grid_template_rows": null,
            "height": null,
            "justify_content": null,
            "justify_items": null,
            "left": null,
            "margin": null,
            "max_height": null,
            "max_width": null,
            "min_height": null,
            "min_width": null,
            "object_fit": null,
            "object_position": null,
            "order": null,
            "overflow": null,
            "overflow_x": null,
            "overflow_y": null,
            "padding": null,
            "right": null,
            "top": null,
            "visibility": null,
            "width": null
          }
        },
        "3811bb982d2c4c869c3b4a31eefe0297": {
          "model_module": "@jupyter-widgets/base",
          "model_name": "LayoutModel",
          "model_module_version": "1.2.0",
          "state": {
            "_model_module": "@jupyter-widgets/base",
            "_model_module_version": "1.2.0",
            "_model_name": "LayoutModel",
            "_view_count": null,
            "_view_module": "@jupyter-widgets/base",
            "_view_module_version": "1.2.0",
            "_view_name": "LayoutView",
            "align_content": null,
            "align_items": null,
            "align_self": null,
            "border": null,
            "bottom": null,
            "display": null,
            "flex": null,
            "flex_flow": null,
            "grid_area": null,
            "grid_auto_columns": null,
            "grid_auto_flow": null,
            "grid_auto_rows": null,
            "grid_column": null,
            "grid_gap": null,
            "grid_row": null,
            "grid_template_areas": null,
            "grid_template_columns": null,
            "grid_template_rows": null,
            "height": null,
            "justify_content": null,
            "justify_items": null,
            "left": null,
            "margin": null,
            "max_height": null,
            "max_width": null,
            "min_height": null,
            "min_width": null,
            "object_fit": null,
            "object_position": null,
            "order": null,
            "overflow": null,
            "overflow_x": null,
            "overflow_y": null,
            "padding": null,
            "right": null,
            "top": null,
            "visibility": null,
            "width": null
          }
        },
        "90246533da9e47c1b446f66c8191332e": {
          "model_module": "@jupyter-widgets/controls",
          "model_name": "DescriptionStyleModel",
          "model_module_version": "1.5.0",
          "state": {
            "_model_module": "@jupyter-widgets/controls",
            "_model_module_version": "1.5.0",
            "_model_name": "DescriptionStyleModel",
            "_view_count": null,
            "_view_module": "@jupyter-widgets/base",
            "_view_module_version": "1.2.0",
            "_view_name": "StyleView",
            "description_width": ""
          }
        },
        "35f655fad0da45c68bf3e38e844e8074": {
          "model_module": "@jupyter-widgets/base",
          "model_name": "LayoutModel",
          "model_module_version": "1.2.0",
          "state": {
            "_model_module": "@jupyter-widgets/base",
            "_model_module_version": "1.2.0",
            "_model_name": "LayoutModel",
            "_view_count": null,
            "_view_module": "@jupyter-widgets/base",
            "_view_module_version": "1.2.0",
            "_view_name": "LayoutView",
            "align_content": null,
            "align_items": null,
            "align_self": null,
            "border": null,
            "bottom": null,
            "display": null,
            "flex": null,
            "flex_flow": null,
            "grid_area": null,
            "grid_auto_columns": null,
            "grid_auto_flow": null,
            "grid_auto_rows": null,
            "grid_column": null,
            "grid_gap": null,
            "grid_row": null,
            "grid_template_areas": null,
            "grid_template_columns": null,
            "grid_template_rows": null,
            "height": null,
            "justify_content": null,
            "justify_items": null,
            "left": null,
            "margin": null,
            "max_height": null,
            "max_width": null,
            "min_height": null,
            "min_width": null,
            "object_fit": null,
            "object_position": null,
            "order": null,
            "overflow": null,
            "overflow_x": null,
            "overflow_y": null,
            "padding": null,
            "right": null,
            "top": null,
            "visibility": null,
            "width": null
          }
        },
        "aced2b7e0ac24d6fa6f088198dab9090": {
          "model_module": "@jupyter-widgets/controls",
          "model_name": "ProgressStyleModel",
          "model_module_version": "1.5.0",
          "state": {
            "_model_module": "@jupyter-widgets/controls",
            "_model_module_version": "1.5.0",
            "_model_name": "ProgressStyleModel",
            "_view_count": null,
            "_view_module": "@jupyter-widgets/base",
            "_view_module_version": "1.2.0",
            "_view_name": "StyleView",
            "bar_color": null,
            "description_width": ""
          }
        },
        "5c4cdb389d084a0a9365c263ff1ed3d2": {
          "model_module": "@jupyter-widgets/base",
          "model_name": "LayoutModel",
          "model_module_version": "1.2.0",
          "state": {
            "_model_module": "@jupyter-widgets/base",
            "_model_module_version": "1.2.0",
            "_model_name": "LayoutModel",
            "_view_count": null,
            "_view_module": "@jupyter-widgets/base",
            "_view_module_version": "1.2.0",
            "_view_name": "LayoutView",
            "align_content": null,
            "align_items": null,
            "align_self": null,
            "border": null,
            "bottom": null,
            "display": null,
            "flex": null,
            "flex_flow": null,
            "grid_area": null,
            "grid_auto_columns": null,
            "grid_auto_flow": null,
            "grid_auto_rows": null,
            "grid_column": null,
            "grid_gap": null,
            "grid_row": null,
            "grid_template_areas": null,
            "grid_template_columns": null,
            "grid_template_rows": null,
            "height": null,
            "justify_content": null,
            "justify_items": null,
            "left": null,
            "margin": null,
            "max_height": null,
            "max_width": null,
            "min_height": null,
            "min_width": null,
            "object_fit": null,
            "object_position": null,
            "order": null,
            "overflow": null,
            "overflow_x": null,
            "overflow_y": null,
            "padding": null,
            "right": null,
            "top": null,
            "visibility": null,
            "width": null
          }
        },
        "ed32072160fa476b8162d47aedde79ce": {
          "model_module": "@jupyter-widgets/controls",
          "model_name": "DescriptionStyleModel",
          "model_module_version": "1.5.0",
          "state": {
            "_model_module": "@jupyter-widgets/controls",
            "_model_module_version": "1.5.0",
            "_model_name": "DescriptionStyleModel",
            "_view_count": null,
            "_view_module": "@jupyter-widgets/base",
            "_view_module_version": "1.2.0",
            "_view_name": "StyleView",
            "description_width": ""
          }
        },
        "e9902f2f3555481daaa6ff2d3a07b340": {
          "model_module": "@jupyter-widgets/controls",
          "model_name": "HBoxModel",
          "model_module_version": "1.5.0",
          "state": {
            "_dom_classes": [],
            "_model_module": "@jupyter-widgets/controls",
            "_model_module_version": "1.5.0",
            "_model_name": "HBoxModel",
            "_view_count": null,
            "_view_module": "@jupyter-widgets/controls",
            "_view_module_version": "1.5.0",
            "_view_name": "HBoxView",
            "box_style": "",
            "children": [
              "IPY_MODEL_defbe1e6a0e24ee9860bb1e9b08f442c",
              "IPY_MODEL_a918c78e40e8432bb202931ae766e9f9",
              "IPY_MODEL_a88cf8446b0c4e3db4ff8a6a114f4c73"
            ],
            "layout": "IPY_MODEL_2bb6e0343e8f45848793b561fa1f843d"
          }
        },
        "defbe1e6a0e24ee9860bb1e9b08f442c": {
          "model_module": "@jupyter-widgets/controls",
          "model_name": "HTMLModel",
          "model_module_version": "1.5.0",
          "state": {
            "_dom_classes": [],
            "_model_module": "@jupyter-widgets/controls",
            "_model_module_version": "1.5.0",
            "_model_name": "HTMLModel",
            "_view_count": null,
            "_view_module": "@jupyter-widgets/controls",
            "_view_module_version": "1.5.0",
            "_view_name": "HTMLView",
            "description": "",
            "description_tooltip": null,
            "layout": "IPY_MODEL_a67d4d05556d4b2388ec40055511e436",
            "placeholder": "​",
            "style": "IPY_MODEL_ce6f7f5533f64048af05f0b27bb17140",
            "value": "mha.py: 100%"
          }
        },
        "a918c78e40e8432bb202931ae766e9f9": {
          "model_module": "@jupyter-widgets/controls",
          "model_name": "FloatProgressModel",
          "model_module_version": "1.5.0",
          "state": {
            "_dom_classes": [],
            "_model_module": "@jupyter-widgets/controls",
            "_model_module_version": "1.5.0",
            "_model_name": "FloatProgressModel",
            "_view_count": null,
            "_view_module": "@jupyter-widgets/controls",
            "_view_module_version": "1.5.0",
            "_view_name": "ProgressView",
            "bar_style": "success",
            "description": "",
            "description_tooltip": null,
            "layout": "IPY_MODEL_200787a07484408d9cdea11896abd456",
            "max": 28011,
            "min": 0,
            "orientation": "horizontal",
            "style": "IPY_MODEL_79b68f4c8c934ebe833a4552fe550ce4",
            "value": 28011
          }
        },
        "a88cf8446b0c4e3db4ff8a6a114f4c73": {
          "model_module": "@jupyter-widgets/controls",
          "model_name": "HTMLModel",
          "model_module_version": "1.5.0",
          "state": {
            "_dom_classes": [],
            "_model_module": "@jupyter-widgets/controls",
            "_model_module_version": "1.5.0",
            "_model_name": "HTMLModel",
            "_view_count": null,
            "_view_module": "@jupyter-widgets/controls",
            "_view_module_version": "1.5.0",
            "_view_name": "HTMLView",
            "description": "",
            "description_tooltip": null,
            "layout": "IPY_MODEL_0e3a557d9b1c4b438951156eacbb024d",
            "placeholder": "​",
            "style": "IPY_MODEL_a6d53ca8e3f441dfa611bbf842313022",
            "value": " 28.0k/28.0k [00:00&lt;00:00, 1.24MB/s]"
          }
        },
        "2bb6e0343e8f45848793b561fa1f843d": {
          "model_module": "@jupyter-widgets/base",
          "model_name": "LayoutModel",
          "model_module_version": "1.2.0",
          "state": {
            "_model_module": "@jupyter-widgets/base",
            "_model_module_version": "1.2.0",
            "_model_name": "LayoutModel",
            "_view_count": null,
            "_view_module": "@jupyter-widgets/base",
            "_view_module_version": "1.2.0",
            "_view_name": "LayoutView",
            "align_content": null,
            "align_items": null,
            "align_self": null,
            "border": null,
            "bottom": null,
            "display": null,
            "flex": null,
            "flex_flow": null,
            "grid_area": null,
            "grid_auto_columns": null,
            "grid_auto_flow": null,
            "grid_auto_rows": null,
            "grid_column": null,
            "grid_gap": null,
            "grid_row": null,
            "grid_template_areas": null,
            "grid_template_columns": null,
            "grid_template_rows": null,
            "height": null,
            "justify_content": null,
            "justify_items": null,
            "left": null,
            "margin": null,
            "max_height": null,
            "max_width": null,
            "min_height": null,
            "min_width": null,
            "object_fit": null,
            "object_position": null,
            "order": null,
            "overflow": null,
            "overflow_x": null,
            "overflow_y": null,
            "padding": null,
            "right": null,
            "top": null,
            "visibility": null,
            "width": null
          }
        },
        "a67d4d05556d4b2388ec40055511e436": {
          "model_module": "@jupyter-widgets/base",
          "model_name": "LayoutModel",
          "model_module_version": "1.2.0",
          "state": {
            "_model_module": "@jupyter-widgets/base",
            "_model_module_version": "1.2.0",
            "_model_name": "LayoutModel",
            "_view_count": null,
            "_view_module": "@jupyter-widgets/base",
            "_view_module_version": "1.2.0",
            "_view_name": "LayoutView",
            "align_content": null,
            "align_items": null,
            "align_self": null,
            "border": null,
            "bottom": null,
            "display": null,
            "flex": null,
            "flex_flow": null,
            "grid_area": null,
            "grid_auto_columns": null,
            "grid_auto_flow": null,
            "grid_auto_rows": null,
            "grid_column": null,
            "grid_gap": null,
            "grid_row": null,
            "grid_template_areas": null,
            "grid_template_columns": null,
            "grid_template_rows": null,
            "height": null,
            "justify_content": null,
            "justify_items": null,
            "left": null,
            "margin": null,
            "max_height": null,
            "max_width": null,
            "min_height": null,
            "min_width": null,
            "object_fit": null,
            "object_position": null,
            "order": null,
            "overflow": null,
            "overflow_x": null,
            "overflow_y": null,
            "padding": null,
            "right": null,
            "top": null,
            "visibility": null,
            "width": null
          }
        },
        "ce6f7f5533f64048af05f0b27bb17140": {
          "model_module": "@jupyter-widgets/controls",
          "model_name": "DescriptionStyleModel",
          "model_module_version": "1.5.0",
          "state": {
            "_model_module": "@jupyter-widgets/controls",
            "_model_module_version": "1.5.0",
            "_model_name": "DescriptionStyleModel",
            "_view_count": null,
            "_view_module": "@jupyter-widgets/base",
            "_view_module_version": "1.2.0",
            "_view_name": "StyleView",
            "description_width": ""
          }
        },
        "200787a07484408d9cdea11896abd456": {
          "model_module": "@jupyter-widgets/base",
          "model_name": "LayoutModel",
          "model_module_version": "1.2.0",
          "state": {
            "_model_module": "@jupyter-widgets/base",
            "_model_module_version": "1.2.0",
            "_model_name": "LayoutModel",
            "_view_count": null,
            "_view_module": "@jupyter-widgets/base",
            "_view_module_version": "1.2.0",
            "_view_name": "LayoutView",
            "align_content": null,
            "align_items": null,
            "align_self": null,
            "border": null,
            "bottom": null,
            "display": null,
            "flex": null,
            "flex_flow": null,
            "grid_area": null,
            "grid_auto_columns": null,
            "grid_auto_flow": null,
            "grid_auto_rows": null,
            "grid_column": null,
            "grid_gap": null,
            "grid_row": null,
            "grid_template_areas": null,
            "grid_template_columns": null,
            "grid_template_rows": null,
            "height": null,
            "justify_content": null,
            "justify_items": null,
            "left": null,
            "margin": null,
            "max_height": null,
            "max_width": null,
            "min_height": null,
            "min_width": null,
            "object_fit": null,
            "object_position": null,
            "order": null,
            "overflow": null,
            "overflow_x": null,
            "overflow_y": null,
            "padding": null,
            "right": null,
            "top": null,
            "visibility": null,
            "width": null
          }
        },
        "79b68f4c8c934ebe833a4552fe550ce4": {
          "model_module": "@jupyter-widgets/controls",
          "model_name": "ProgressStyleModel",
          "model_module_version": "1.5.0",
          "state": {
            "_model_module": "@jupyter-widgets/controls",
            "_model_module_version": "1.5.0",
            "_model_name": "ProgressStyleModel",
            "_view_count": null,
            "_view_module": "@jupyter-widgets/base",
            "_view_module_version": "1.2.0",
            "_view_name": "StyleView",
            "bar_color": null,
            "description_width": ""
          }
        },
        "0e3a557d9b1c4b438951156eacbb024d": {
          "model_module": "@jupyter-widgets/base",
          "model_name": "LayoutModel",
          "model_module_version": "1.2.0",
          "state": {
            "_model_module": "@jupyter-widgets/base",
            "_model_module_version": "1.2.0",
            "_model_name": "LayoutModel",
            "_view_count": null,
            "_view_module": "@jupyter-widgets/base",
            "_view_module_version": "1.2.0",
            "_view_name": "LayoutView",
            "align_content": null,
            "align_items": null,
            "align_self": null,
            "border": null,
            "bottom": null,
            "display": null,
            "flex": null,
            "flex_flow": null,
            "grid_area": null,
            "grid_auto_columns": null,
            "grid_auto_flow": null,
            "grid_auto_rows": null,
            "grid_column": null,
            "grid_gap": null,
            "grid_row": null,
            "grid_template_areas": null,
            "grid_template_columns": null,
            "grid_template_rows": null,
            "height": null,
            "justify_content": null,
            "justify_items": null,
            "left": null,
            "margin": null,
            "max_height": null,
            "max_width": null,
            "min_height": null,
            "min_width": null,
            "object_fit": null,
            "object_position": null,
            "order": null,
            "overflow": null,
            "overflow_x": null,
            "overflow_y": null,
            "padding": null,
            "right": null,
            "top": null,
            "visibility": null,
            "width": null
          }
        },
        "a6d53ca8e3f441dfa611bbf842313022": {
          "model_module": "@jupyter-widgets/controls",
          "model_name": "DescriptionStyleModel",
          "model_module_version": "1.5.0",
          "state": {
            "_model_module": "@jupyter-widgets/controls",
            "_model_module_version": "1.5.0",
            "_model_name": "DescriptionStyleModel",
            "_view_count": null,
            "_view_module": "@jupyter-widgets/base",
            "_view_module_version": "1.2.0",
            "_view_name": "StyleView",
            "description_width": ""
          }
        },
        "c881c12d50ca47dcbfe2b030a072ee88": {
          "model_module": "@jupyter-widgets/controls",
          "model_name": "HBoxModel",
          "model_module_version": "1.5.0",
          "state": {
            "_dom_classes": [],
            "_model_module": "@jupyter-widgets/controls",
            "_model_module_version": "1.5.0",
            "_model_name": "HBoxModel",
            "_view_count": null,
            "_view_module": "@jupyter-widgets/controls",
            "_view_module_version": "1.5.0",
            "_view_name": "HBoxView",
            "box_style": "",
            "children": [
              "IPY_MODEL_f483e9e1f70344ae89f51ed22a163a63",
              "IPY_MODEL_e7545458059142e1a53743c1b3913690",
              "IPY_MODEL_baabfc15e69c4ffdad52f7b37437c96a"
            ],
            "layout": "IPY_MODEL_ccfc627a72e0481db0320c4d7f5c78dc"
          }
        },
        "f483e9e1f70344ae89f51ed22a163a63": {
          "model_module": "@jupyter-widgets/controls",
          "model_name": "HTMLModel",
          "model_module_version": "1.5.0",
          "state": {
            "_dom_classes": [],
            "_model_module": "@jupyter-widgets/controls",
            "_model_module_version": "1.5.0",
            "_model_name": "HTMLModel",
            "_view_count": null,
            "_view_module": "@jupyter-widgets/controls",
            "_view_module_version": "1.5.0",
            "_view_name": "HTMLView",
            "description": "",
            "description_tooltip": null,
            "layout": "IPY_MODEL_ad1b24d9fea34b5c9282e7d4e5057058",
            "placeholder": "​",
            "style": "IPY_MODEL_3ce7afd2bb434009a9a5197c6ad41148",
            "value": "embedding.py: 100%"
          }
        },
        "e7545458059142e1a53743c1b3913690": {
          "model_module": "@jupyter-widgets/controls",
          "model_name": "FloatProgressModel",
          "model_module_version": "1.5.0",
          "state": {
            "_dom_classes": [],
            "_model_module": "@jupyter-widgets/controls",
            "_model_module_version": "1.5.0",
            "_model_name": "FloatProgressModel",
            "_view_count": null,
            "_view_module": "@jupyter-widgets/controls",
            "_view_module_version": "1.5.0",
            "_view_name": "ProgressView",
            "bar_style": "success",
            "description": "",
            "description_tooltip": null,
            "layout": "IPY_MODEL_6f6f814bd1684b109cdfce29f0fea8f0",
            "max": 2557,
            "min": 0,
            "orientation": "horizontal",
            "style": "IPY_MODEL_d1c8d29942b940ecaa44631087c2d7eb",
            "value": 2557
          }
        },
        "baabfc15e69c4ffdad52f7b37437c96a": {
          "model_module": "@jupyter-widgets/controls",
          "model_name": "HTMLModel",
          "model_module_version": "1.5.0",
          "state": {
            "_dom_classes": [],
            "_model_module": "@jupyter-widgets/controls",
            "_model_module_version": "1.5.0",
            "_model_name": "HTMLModel",
            "_view_count": null,
            "_view_module": "@jupyter-widgets/controls",
            "_view_module_version": "1.5.0",
            "_view_name": "HTMLView",
            "description": "",
            "description_tooltip": null,
            "layout": "IPY_MODEL_670e520b26074c7abef41281e23b84a7",
            "placeholder": "​",
            "style": "IPY_MODEL_73185cc5f8184421ae1114c23b185ecd",
            "value": " 2.56k/2.56k [00:00&lt;00:00, 167kB/s]"
          }
        },
        "ccfc627a72e0481db0320c4d7f5c78dc": {
          "model_module": "@jupyter-widgets/base",
          "model_name": "LayoutModel",
          "model_module_version": "1.2.0",
          "state": {
            "_model_module": "@jupyter-widgets/base",
            "_model_module_version": "1.2.0",
            "_model_name": "LayoutModel",
            "_view_count": null,
            "_view_module": "@jupyter-widgets/base",
            "_view_module_version": "1.2.0",
            "_view_name": "LayoutView",
            "align_content": null,
            "align_items": null,
            "align_self": null,
            "border": null,
            "bottom": null,
            "display": null,
            "flex": null,
            "flex_flow": null,
            "grid_area": null,
            "grid_auto_columns": null,
            "grid_auto_flow": null,
            "grid_auto_rows": null,
            "grid_column": null,
            "grid_gap": null,
            "grid_row": null,
            "grid_template_areas": null,
            "grid_template_columns": null,
            "grid_template_rows": null,
            "height": null,
            "justify_content": null,
            "justify_items": null,
            "left": null,
            "margin": null,
            "max_height": null,
            "max_width": null,
            "min_height": null,
            "min_width": null,
            "object_fit": null,
            "object_position": null,
            "order": null,
            "overflow": null,
            "overflow_x": null,
            "overflow_y": null,
            "padding": null,
            "right": null,
            "top": null,
            "visibility": null,
            "width": null
          }
        },
        "ad1b24d9fea34b5c9282e7d4e5057058": {
          "model_module": "@jupyter-widgets/base",
          "model_name": "LayoutModel",
          "model_module_version": "1.2.0",
          "state": {
            "_model_module": "@jupyter-widgets/base",
            "_model_module_version": "1.2.0",
            "_model_name": "LayoutModel",
            "_view_count": null,
            "_view_module": "@jupyter-widgets/base",
            "_view_module_version": "1.2.0",
            "_view_name": "LayoutView",
            "align_content": null,
            "align_items": null,
            "align_self": null,
            "border": null,
            "bottom": null,
            "display": null,
            "flex": null,
            "flex_flow": null,
            "grid_area": null,
            "grid_auto_columns": null,
            "grid_auto_flow": null,
            "grid_auto_rows": null,
            "grid_column": null,
            "grid_gap": null,
            "grid_row": null,
            "grid_template_areas": null,
            "grid_template_columns": null,
            "grid_template_rows": null,
            "height": null,
            "justify_content": null,
            "justify_items": null,
            "left": null,
            "margin": null,
            "max_height": null,
            "max_width": null,
            "min_height": null,
            "min_width": null,
            "object_fit": null,
            "object_position": null,
            "order": null,
            "overflow": null,
            "overflow_x": null,
            "overflow_y": null,
            "padding": null,
            "right": null,
            "top": null,
            "visibility": null,
            "width": null
          }
        },
        "3ce7afd2bb434009a9a5197c6ad41148": {
          "model_module": "@jupyter-widgets/controls",
          "model_name": "DescriptionStyleModel",
          "model_module_version": "1.5.0",
          "state": {
            "_model_module": "@jupyter-widgets/controls",
            "_model_module_version": "1.5.0",
            "_model_name": "DescriptionStyleModel",
            "_view_count": null,
            "_view_module": "@jupyter-widgets/base",
            "_view_module_version": "1.2.0",
            "_view_name": "StyleView",
            "description_width": ""
          }
        },
        "6f6f814bd1684b109cdfce29f0fea8f0": {
          "model_module": "@jupyter-widgets/base",
          "model_name": "LayoutModel",
          "model_module_version": "1.2.0",
          "state": {
            "_model_module": "@jupyter-widgets/base",
            "_model_module_version": "1.2.0",
            "_model_name": "LayoutModel",
            "_view_count": null,
            "_view_module": "@jupyter-widgets/base",
            "_view_module_version": "1.2.0",
            "_view_name": "LayoutView",
            "align_content": null,
            "align_items": null,
            "align_self": null,
            "border": null,
            "bottom": null,
            "display": null,
            "flex": null,
            "flex_flow": null,
            "grid_area": null,
            "grid_auto_columns": null,
            "grid_auto_flow": null,
            "grid_auto_rows": null,
            "grid_column": null,
            "grid_gap": null,
            "grid_row": null,
            "grid_template_areas": null,
            "grid_template_columns": null,
            "grid_template_rows": null,
            "height": null,
            "justify_content": null,
            "justify_items": null,
            "left": null,
            "margin": null,
            "max_height": null,
            "max_width": null,
            "min_height": null,
            "min_width": null,
            "object_fit": null,
            "object_position": null,
            "order": null,
            "overflow": null,
            "overflow_x": null,
            "overflow_y": null,
            "padding": null,
            "right": null,
            "top": null,
            "visibility": null,
            "width": null
          }
        },
        "d1c8d29942b940ecaa44631087c2d7eb": {
          "model_module": "@jupyter-widgets/controls",
          "model_name": "ProgressStyleModel",
          "model_module_version": "1.5.0",
          "state": {
            "_model_module": "@jupyter-widgets/controls",
            "_model_module_version": "1.5.0",
            "_model_name": "ProgressStyleModel",
            "_view_count": null,
            "_view_module": "@jupyter-widgets/base",
            "_view_module_version": "1.2.0",
            "_view_name": "StyleView",
            "bar_color": null,
            "description_width": ""
          }
        },
        "670e520b26074c7abef41281e23b84a7": {
          "model_module": "@jupyter-widgets/base",
          "model_name": "LayoutModel",
          "model_module_version": "1.2.0",
          "state": {
            "_model_module": "@jupyter-widgets/base",
            "_model_module_version": "1.2.0",
            "_model_name": "LayoutModel",
            "_view_count": null,
            "_view_module": "@jupyter-widgets/base",
            "_view_module_version": "1.2.0",
            "_view_name": "LayoutView",
            "align_content": null,
            "align_items": null,
            "align_self": null,
            "border": null,
            "bottom": null,
            "display": null,
            "flex": null,
            "flex_flow": null,
            "grid_area": null,
            "grid_auto_columns": null,
            "grid_auto_flow": null,
            "grid_auto_rows": null,
            "grid_column": null,
            "grid_gap": null,
            "grid_row": null,
            "grid_template_areas": null,
            "grid_template_columns": null,
            "grid_template_rows": null,
            "height": null,
            "justify_content": null,
            "justify_items": null,
            "left": null,
            "margin": null,
            "max_height": null,
            "max_width": null,
            "min_height": null,
            "min_width": null,
            "object_fit": null,
            "object_position": null,
            "order": null,
            "overflow": null,
            "overflow_x": null,
            "overflow_y": null,
            "padding": null,
            "right": null,
            "top": null,
            "visibility": null,
            "width": null
          }
        },
        "73185cc5f8184421ae1114c23b185ecd": {
          "model_module": "@jupyter-widgets/controls",
          "model_name": "DescriptionStyleModel",
          "model_module_version": "1.5.0",
          "state": {
            "_model_module": "@jupyter-widgets/controls",
            "_model_module_version": "1.5.0",
            "_model_name": "DescriptionStyleModel",
            "_view_count": null,
            "_view_module": "@jupyter-widgets/base",
            "_view_module_version": "1.2.0",
            "_view_name": "StyleView",
            "description_width": ""
          }
        },
        "3738ba2e7aa24dee819687aca806821c": {
          "model_module": "@jupyter-widgets/controls",
          "model_name": "HBoxModel",
          "model_module_version": "1.5.0",
          "state": {
            "_dom_classes": [],
            "_model_module": "@jupyter-widgets/controls",
            "_model_module_version": "1.5.0",
            "_model_name": "HBoxModel",
            "_view_count": null,
            "_view_module": "@jupyter-widgets/controls",
            "_view_module_version": "1.5.0",
            "_view_name": "HBoxView",
            "box_style": "",
            "children": [
              "IPY_MODEL_07e01dcb87004f72bd65b8176415de3c",
              "IPY_MODEL_aaa3a449aa9f413e8bfb6fe45c363176",
              "IPY_MODEL_7b8e39fbf62a4ff4b904533260e21573"
            ],
            "layout": "IPY_MODEL_e601c904b51a423f9c1b21d707896c93"
          }
        },
        "07e01dcb87004f72bd65b8176415de3c": {
          "model_module": "@jupyter-widgets/controls",
          "model_name": "HTMLModel",
          "model_module_version": "1.5.0",
          "state": {
            "_dom_classes": [],
            "_model_module": "@jupyter-widgets/controls",
            "_model_module_version": "1.5.0",
            "_model_name": "HTMLModel",
            "_view_count": null,
            "_view_module": "@jupyter-widgets/controls",
            "_view_module_version": "1.5.0",
            "_view_name": "HTMLView",
            "description": "",
            "description_tooltip": null,
            "layout": "IPY_MODEL_2bfb726a22d445168db07404d757c914",
            "placeholder": "​",
            "style": "IPY_MODEL_228e39390da04b0faed81deba31ff0de",
            "value": "model.safetensors: 100%"
          }
        },
        "aaa3a449aa9f413e8bfb6fe45c363176": {
          "model_module": "@jupyter-widgets/controls",
          "model_name": "FloatProgressModel",
          "model_module_version": "1.5.0",
          "state": {
            "_dom_classes": [],
            "_model_module": "@jupyter-widgets/controls",
            "_model_module_version": "1.5.0",
            "_model_name": "FloatProgressModel",
            "_view_count": null,
            "_view_module": "@jupyter-widgets/controls",
            "_view_module_version": "1.5.0",
            "_view_name": "ProgressView",
            "bar_style": "success",
            "description": "",
            "description_tooltip": null,
            "layout": "IPY_MODEL_16a80c81265049909b448e02ef457995",
            "max": 556892306,
            "min": 0,
            "orientation": "horizontal",
            "style": "IPY_MODEL_f937d82a21f741eaa650daaf501f173e",
            "value": 556892306
          }
        },
        "7b8e39fbf62a4ff4b904533260e21573": {
          "model_module": "@jupyter-widgets/controls",
          "model_name": "HTMLModel",
          "model_module_version": "1.5.0",
          "state": {
            "_dom_classes": [],
            "_model_module": "@jupyter-widgets/controls",
            "_model_module_version": "1.5.0",
            "_model_name": "HTMLModel",
            "_view_count": null,
            "_view_module": "@jupyter-widgets/controls",
            "_view_module_version": "1.5.0",
            "_view_name": "HTMLView",
            "description": "",
            "description_tooltip": null,
            "layout": "IPY_MODEL_403d71f5f32d4d4888dfe702eb5dd472",
            "placeholder": "​",
            "style": "IPY_MODEL_31ca5d2790b04659bc4d5ca51db1a4d2",
            "value": " 557M/557M [00:01&lt;00:00, 326MB/s]"
          }
        },
        "e601c904b51a423f9c1b21d707896c93": {
          "model_module": "@jupyter-widgets/base",
          "model_name": "LayoutModel",
          "model_module_version": "1.2.0",
          "state": {
            "_model_module": "@jupyter-widgets/base",
            "_model_module_version": "1.2.0",
            "_model_name": "LayoutModel",
            "_view_count": null,
            "_view_module": "@jupyter-widgets/base",
            "_view_module_version": "1.2.0",
            "_view_name": "LayoutView",
            "align_content": null,
            "align_items": null,
            "align_self": null,
            "border": null,
            "bottom": null,
            "display": null,
            "flex": null,
            "flex_flow": null,
            "grid_area": null,
            "grid_auto_columns": null,
            "grid_auto_flow": null,
            "grid_auto_rows": null,
            "grid_column": null,
            "grid_gap": null,
            "grid_row": null,
            "grid_template_areas": null,
            "grid_template_columns": null,
            "grid_template_rows": null,
            "height": null,
            "justify_content": null,
            "justify_items": null,
            "left": null,
            "margin": null,
            "max_height": null,
            "max_width": null,
            "min_height": null,
            "min_width": null,
            "object_fit": null,
            "object_position": null,
            "order": null,
            "overflow": null,
            "overflow_x": null,
            "overflow_y": null,
            "padding": null,
            "right": null,
            "top": null,
            "visibility": null,
            "width": null
          }
        },
        "2bfb726a22d445168db07404d757c914": {
          "model_module": "@jupyter-widgets/base",
          "model_name": "LayoutModel",
          "model_module_version": "1.2.0",
          "state": {
            "_model_module": "@jupyter-widgets/base",
            "_model_module_version": "1.2.0",
            "_model_name": "LayoutModel",
            "_view_count": null,
            "_view_module": "@jupyter-widgets/base",
            "_view_module_version": "1.2.0",
            "_view_name": "LayoutView",
            "align_content": null,
            "align_items": null,
            "align_self": null,
            "border": null,
            "bottom": null,
            "display": null,
            "flex": null,
            "flex_flow": null,
            "grid_area": null,
            "grid_auto_columns": null,
            "grid_auto_flow": null,
            "grid_auto_rows": null,
            "grid_column": null,
            "grid_gap": null,
            "grid_row": null,
            "grid_template_areas": null,
            "grid_template_columns": null,
            "grid_template_rows": null,
            "height": null,
            "justify_content": null,
            "justify_items": null,
            "left": null,
            "margin": null,
            "max_height": null,
            "max_width": null,
            "min_height": null,
            "min_width": null,
            "object_fit": null,
            "object_position": null,
            "order": null,
            "overflow": null,
            "overflow_x": null,
            "overflow_y": null,
            "padding": null,
            "right": null,
            "top": null,
            "visibility": null,
            "width": null
          }
        },
        "228e39390da04b0faed81deba31ff0de": {
          "model_module": "@jupyter-widgets/controls",
          "model_name": "DescriptionStyleModel",
          "model_module_version": "1.5.0",
          "state": {
            "_model_module": "@jupyter-widgets/controls",
            "_model_module_version": "1.5.0",
            "_model_name": "DescriptionStyleModel",
            "_view_count": null,
            "_view_module": "@jupyter-widgets/base",
            "_view_module_version": "1.2.0",
            "_view_name": "StyleView",
            "description_width": ""
          }
        },
        "16a80c81265049909b448e02ef457995": {
          "model_module": "@jupyter-widgets/base",
          "model_name": "LayoutModel",
          "model_module_version": "1.2.0",
          "state": {
            "_model_module": "@jupyter-widgets/base",
            "_model_module_version": "1.2.0",
            "_model_name": "LayoutModel",
            "_view_count": null,
            "_view_module": "@jupyter-widgets/base",
            "_view_module_version": "1.2.0",
            "_view_name": "LayoutView",
            "align_content": null,
            "align_items": null,
            "align_self": null,
            "border": null,
            "bottom": null,
            "display": null,
            "flex": null,
            "flex_flow": null,
            "grid_area": null,
            "grid_auto_columns": null,
            "grid_auto_flow": null,
            "grid_auto_rows": null,
            "grid_column": null,
            "grid_gap": null,
            "grid_row": null,
            "grid_template_areas": null,
            "grid_template_columns": null,
            "grid_template_rows": null,
            "height": null,
            "justify_content": null,
            "justify_items": null,
            "left": null,
            "margin": null,
            "max_height": null,
            "max_width": null,
            "min_height": null,
            "min_width": null,
            "object_fit": null,
            "object_position": null,
            "order": null,
            "overflow": null,
            "overflow_x": null,
            "overflow_y": null,
            "padding": null,
            "right": null,
            "top": null,
            "visibility": null,
            "width": null
          }
        },
        "f937d82a21f741eaa650daaf501f173e": {
          "model_module": "@jupyter-widgets/controls",
          "model_name": "ProgressStyleModel",
          "model_module_version": "1.5.0",
          "state": {
            "_model_module": "@jupyter-widgets/controls",
            "_model_module_version": "1.5.0",
            "_model_name": "ProgressStyleModel",
            "_view_count": null,
            "_view_module": "@jupyter-widgets/base",
            "_view_module_version": "1.2.0",
            "_view_name": "StyleView",
            "bar_color": null,
            "description_width": ""
          }
        },
        "403d71f5f32d4d4888dfe702eb5dd472": {
          "model_module": "@jupyter-widgets/base",
          "model_name": "LayoutModel",
          "model_module_version": "1.2.0",
          "state": {
            "_model_module": "@jupyter-widgets/base",
            "_model_module_version": "1.2.0",
            "_model_name": "LayoutModel",
            "_view_count": null,
            "_view_module": "@jupyter-widgets/base",
            "_view_module_version": "1.2.0",
            "_view_name": "LayoutView",
            "align_content": null,
            "align_items": null,
            "align_self": null,
            "border": null,
            "bottom": null,
            "display": null,
            "flex": null,
            "flex_flow": null,
            "grid_area": null,
            "grid_auto_columns": null,
            "grid_auto_flow": null,
            "grid_auto_rows": null,
            "grid_column": null,
            "grid_gap": null,
            "grid_row": null,
            "grid_template_areas": null,
            "grid_template_columns": null,
            "grid_template_rows": null,
            "height": null,
            "justify_content": null,
            "justify_items": null,
            "left": null,
            "margin": null,
            "max_height": null,
            "max_width": null,
            "min_height": null,
            "min_width": null,
            "object_fit": null,
            "object_position": null,
            "order": null,
            "overflow": null,
            "overflow_x": null,
            "overflow_y": null,
            "padding": null,
            "right": null,
            "top": null,
            "visibility": null,
            "width": null
          }
        },
        "31ca5d2790b04659bc4d5ca51db1a4d2": {
          "model_module": "@jupyter-widgets/controls",
          "model_name": "DescriptionStyleModel",
          "model_module_version": "1.5.0",
          "state": {
            "_model_module": "@jupyter-widgets/controls",
            "_model_module_version": "1.5.0",
            "_model_name": "DescriptionStyleModel",
            "_view_count": null,
            "_view_module": "@jupyter-widgets/base",
            "_view_module_version": "1.2.0",
            "_view_name": "StyleView",
            "description_width": ""
          }
        }
      }
    }
  },
  "nbformat": 4,
  "nbformat_minor": 5
}